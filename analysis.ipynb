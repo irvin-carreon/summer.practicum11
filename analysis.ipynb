{
 "cells": [
  {
   "cell_type": "markdown",
   "id": "13a2f72b",
   "metadata": {},
   "source": [
    "<h1><center><b>Logistic Regression Model on Flights Dataset</b></center></h2>\n",
    "\n",
    "<h3><center>Name: Irvin Carreon</center></h3>"
   ]
  },
  {
   "cell_type": "code",
   "execution_count": null,
   "id": "097fee41",
   "metadata": {},
   "outputs": [],
   "source": [
    "from sklearn.linear_model import LinearRegression\n",
    "from sklearn.linear_model import LogisticRegression\n",
    "from sklearn.metrics import *\n",
    "from sklearn.model_selection import train_test_split\n",
    "from sklearn.impute import KNNImputer\n",
    "import pandas as pd\n",
    "import matplotlib as plt\n",
    "from sklearn.preprocessing import LabelEncoder\n",
    "import matplotlib.pyplot as plt\n",
    "import scipy as sp\n",
    "import seaborn as sns\n",
    "import numpy as np"
   ]
  },
  {
   "cell_type": "code",
   "execution_count": null,
   "id": "c2325106",
   "metadata": {},
   "outputs": [],
   "source": [
    "flights = pd.read_csv(\"D:\\\\Irvin\\\\top_ports_lines.csv\")"
   ]
  },
  {
   "cell_type": "code",
   "execution_count": null,
   "id": "37e62c37",
   "metadata": {},
   "outputs": [],
   "source": [
    "flights['cancelled'] = flights['cancelled'].map({1:0, 2:1})"
   ]
  },
  {
   "cell_type": "code",
   "execution_count": null,
   "id": "0c3654f4",
   "metadata": {},
   "outputs": [],
   "source": [
    "flights[\"carrier_delay\"] = flights[\"carrier_delay\"].fillna(0)\n",
    "flights[\"weather_delay\"] = flights[\"weather_delay\"].fillna(0)\n",
    "flights[\"nas_delay\"] = flights[\"nas_delay\"].fillna(0)\n",
    "flights[\"security_delay\"] = flights[\"security_delay\"].fillna(0)\n",
    "flights[\"late_aircraft_delay\"] = flights[\"late_aircraft_delay\"].fillna(0)\n",
    "flights[\"dep_delay\"] = flights['dep_delay'].fillna(flights[\"dep_delay\"].median())"
   ]
  },
  {
   "cell_type": "code",
   "execution_count": null,
   "id": "ab77b18a",
   "metadata": {},
   "outputs": [],
   "source": [
    "flights['carrier_delay'] = flights['carrier_delay'].astype(int)\n",
    "flights['weather_delay'] = flights['weather_delay'].astype(int)\n",
    "flights['nas_delay'] = flights['nas_delay'].astype(int)\n",
    "flights['security_delay'] = flights['security_delay'].astype(int)\n",
    "flights['late_aircraft_delay'] = flights['late_aircraft_delay'].astype(int)\n",
    "flights['dep_delay'] = flights['dep_delay'].astype(int)"
   ]
  },
  {
   "cell_type": "code",
   "execution_count": null,
   "id": "71e40cc3",
   "metadata": {},
   "outputs": [],
   "source": [
    "flights['cancelled'].value_counts()/flights.shape[0]"
   ]
  },
  {
   "cell_type": "code",
   "execution_count": null,
   "id": "f716d335",
   "metadata": {},
   "outputs": [],
   "source": [
    "le = LabelEncoder()\n",
    "\n",
    "flights[\"operating_airline_encoded\"] = le.fit_transform(flights['operating_airline'])\n",
    "\n",
    "encoding_map = flights[[\"operating_airline\", \"operating_airline_encoded\"]]"
   ]
  },
  {
   "cell_type": "code",
   "execution_count": null,
   "id": "733008e2",
   "metadata": {},
   "outputs": [],
   "source": [
    "le2 = LabelEncoder()\n",
    "\n",
    "flights['origin_encoded'] = le.fit_transform(flights['origin'])\n",
    "\n",
    "encoding_map2 = flights[['origin', 'origin_encoded']]"
   ]
  },
  {
   "cell_type": "code",
   "execution_count": null,
   "id": "9f574b64",
   "metadata": {},
   "outputs": [],
   "source": [
    "flights['crs_dep_time'] = flights['crs_dep_time'].astype(str)"
   ]
  },
  {
   "cell_type": "code",
   "execution_count": null,
   "id": "e05a86a8",
   "metadata": {},
   "outputs": [],
   "source": [
    "hours = []\n",
    "\n",
    "for row in flights['crs_dep_time']:\n",
    "    if len(row)==3:\n",
    "        hours.append(row[:1])\n",
    "    elif len(row)==4:\n",
    "        hours.append(row[:2])\n",
    "    else:\n",
    "        hours.append(\"0\")\n",
    "\n",
    "flights[\"dep_hour\"] = hours"
   ]
  },
  {
   "cell_type": "code",
   "execution_count": null,
   "id": "fdfd4f9c",
   "metadata": {},
   "outputs": [],
   "source": [
    "flights.to_csv(\"flights_for_R.csv\", index=False)"
   ]
  },
  {
   "cell_type": "code",
   "execution_count": null,
   "id": "08638886",
   "metadata": {},
   "outputs": [],
   "source": [
    "flights2 = flights[['operating_airline_encoded', 'carrier_delay', 'weather_delay', 'nas_delay', 'security_delay', 'late_aircraft_delay', 'origin_encoded', 'dep_hour', 'dep_delay', 'distance']]"
   ]
  },
  {
   "cell_type": "code",
   "execution_count": null,
   "id": "7a0dd3bd",
   "metadata": {},
   "outputs": [],
   "source": [
    "x = flights[['operating_airline_encoded', 'carrier_delay', 'weather_delay', 'nas_delay', 'security_delay', 'late_aircraft_delay', 'origin_encoded', 'dep_hour', 'dep_delay', 'distance']]\n",
    "y = flights[['cancelled']]\n",
    "x_train, x_test, y_train, y_test = train_test_split(x, y, test_size = .5, random_state = 123)\n",
    "x_validation, x_test, y_validation, y_test = train_test_split(x, y, test_size = .2, random_state = 123)\n",
    "print(x_train.shape)\n",
    "print(y_train.shape)\n",
    "print(x_validation.shape)\n",
    "print(y_validation.shape)\n",
    "print(x_test.shape)\n",
    "print(y_test.shape)"
   ]
  },
  {
   "cell_type": "code",
   "execution_count": null,
   "id": "f9943cdc",
   "metadata": {},
   "outputs": [],
   "source": [
    "log_model = LogisticRegression(random_state = 123, class_weight='balanced')\n",
    "log_model.fit(x_train,y_train)"
   ]
  },
  {
   "cell_type": "code",
   "execution_count": null,
   "id": "01ca8c74",
   "metadata": {},
   "outputs": [],
   "source": [
    "print(log_model.coef_)"
   ]
  },
  {
   "cell_type": "code",
   "execution_count": null,
   "id": "d5c0aece",
   "metadata": {},
   "outputs": [],
   "source": [
    "y_pred_val = log_model.predict(x_validation)"
   ]
  },
  {
   "cell_type": "code",
   "execution_count": null,
   "id": "d0bd5252",
   "metadata": {},
   "outputs": [],
   "source": [
    "accuracy_score(y_validation,y_pred_val)"
   ]
  },
  {
   "cell_type": "code",
   "execution_count": null,
   "id": "20891f33",
   "metadata": {},
   "outputs": [],
   "source": [
    "f1_score(y_validation, y_pred_val, average='binary')"
   ]
  },
  {
   "cell_type": "markdown",
   "id": "8c363e56",
   "metadata": {},
   "source": [
    "<h3><center><b>Synthetic Minority Over Sampling Technique</b></center></h3>"
   ]
  },
  {
   "cell_type": "code",
   "execution_count": null,
   "id": "3144b60d",
   "metadata": {},
   "outputs": [],
   "source": [
    "#Apply SMOTE\n",
    "from imblearn.over_sampling import SMOTE\n",
    "\n",
    "sm = SMOTE(random_state=123)\n",
    "\n",
    "x_res, y_res = sm.fit_resample(x_train, y_train)"
   ]
  },
  {
   "cell_type": "code",
   "execution_count": null,
   "id": "8a1d3558",
   "metadata": {},
   "outputs": [],
   "source": [
    "log_model_res = LogisticRegression(random_state = 123)\n",
    "log_model_res.fit(x_res, y_res)"
   ]
  },
  {
   "cell_type": "code",
   "execution_count": null,
   "id": "36a0f788",
   "metadata": {},
   "outputs": [],
   "source": [
    "y_pred_val_res = log_model_res.predict(x_validation)"
   ]
  },
  {
   "cell_type": "code",
   "execution_count": null,
   "id": "1372f549",
   "metadata": {},
   "outputs": [],
   "source": [
    "accuracy_score(y_validation,y_pred_val_res)"
   ]
  },
  {
   "cell_type": "code",
   "execution_count": null,
   "id": "809eded7",
   "metadata": {},
   "outputs": [],
   "source": [
    "f1_score(y_validation, y_pred_val_res, average='binary')"
   ]
  },
  {
   "cell_type": "code",
   "execution_count": null,
   "id": "dae6aa83",
   "metadata": {},
   "outputs": [],
   "source": [
    "sp.stats.pearsonr(flights['cancelled'], flights['dep_delay'])\n",
    "\n",
    "flights_plot = flights[['cancelled', 'dep_delay', 'carrier_delay', 'weather_delay', 'nas_delay', 'security_delay', 'late_aircraft_delay']]\n",
    "sns.pairplot(flights_plot)"
   ]
  },
  {
   "cell_type": "code",
   "execution_count": null,
   "id": "5e4bc430",
   "metadata": {},
   "outputs": [],
   "source": [
    "flights_plot = flights[['cancelled', 'dep_delay', 'carrier_delay', 'weather_delay', 'nas_delay', 'security_delay', 'late_aircraft_delay']]\n",
    "np.corrcoef(flights_plot, rowvar=False)"
   ]
  }
 ],
 "metadata": {
  "kernelspec": {
   "display_name": "irvin_env",
   "language": "python",
   "name": "python3"
  },
  "language_info": {
   "codemirror_mode": {
    "name": "ipython",
    "version": 3
   },
   "file_extension": ".py",
   "mimetype": "text/x-python",
   "name": "python",
   "nbconvert_exporter": "python",
   "pygments_lexer": "ipython3",
   "version": "3.12.11"
  }
 },
 "nbformat": 4,
 "nbformat_minor": 5
}
