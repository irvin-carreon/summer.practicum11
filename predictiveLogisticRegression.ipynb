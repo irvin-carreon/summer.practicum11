{
 "cells": [
  {
   "cell_type": "markdown",
   "id": "79fe2a86",
   "metadata": {},
   "source": [
    "# Building a Logistic Regression Model to Predict Flight Cancellations\n",
    "Author: Tina Lin\n",
    "Date: 6/30/3035"
   ]
  },
  {
   "cell_type": "code",
   "execution_count": 2,
   "id": "970662e3",
   "metadata": {},
   "outputs": [],
   "source": [
    "### Import necessary packages\n",
    "import pandas as pd\n",
    "import numpy as np\n",
    "from numpy import asarray\n",
    "from sklearn.model_selection import train_test_split\n",
    "from sklearn.linear_model import LogisticRegression\n",
    "from sklearn.metrics import accuracy_score, classification_report\n",
    "from sklearn.preprocessing import OneHotEncoder\n",
    "from sklearn.compose import ColumnTransformer\n",
    "from sklearn.pipeline import Pipeline\n",
    "# import statsmodels.formula.api as smf\n",
    "    # from textbook but requires combined X and y"
   ]
  },
  {
   "cell_type": "code",
   "execution_count": 127,
   "id": "bcfadae4",
   "metadata": {},
   "outputs": [],
   "source": [
    "### ORIGINAL MERGED CSV\n",
    "# read original csv file into DataFrame\n",
    "# data = pd.read_csv(\"airline.csv\")\n",
    "\n",
    "# print(data.shape)\n",
    "    # (7065617, 120)"
   ]
  },
  {
   "cell_type": "code",
   "execution_count": 128,
   "id": "385bd990",
   "metadata": {},
   "outputs": [],
   "source": [
    "### cLEANED BUT UNFILTERED CSV\n",
    "# read csv file into DataFrame (cleaned data)\n",
    "# clean = pd.read_csv(\"airline_data_clean.csv\")\n",
    "\n",
    "# print(clean.shape)\n",
    "    # (7065617, 69)\n"
   ]
  },
  {
   "cell_type": "markdown",
   "id": "61da6673",
   "metadata": {},
   "source": [
    "### Initial DataFrame\n",
    "Read cleaned and filtered csv file (top_ports_lines.csv) in as a DataFrame"
   ]
  },
  {
   "cell_type": "code",
   "execution_count": 34,
   "id": "b7813f1c",
   "metadata": {},
   "outputs": [],
   "source": [
    "# READ CLEANED AND FILTERED CSV FILE INTO DATAFRAME\n",
    "df = pd.read_csv(\"top_ports_lines.csv\")\n",
    "# print(df.head())\n",
    "# print(df.shape)\n",
    "    # (1672943, 69)"
   ]
  },
  {
   "cell_type": "code",
   "execution_count": 35,
   "id": "4da3edae",
   "metadata": {},
   "outputs": [],
   "source": [
    "# retrieve the data types of all columns in the full DataFrame\n",
    "column_info = df.dtypes\n",
    "\n",
    "# print(column_info)"
   ]
  },
  {
   "cell_type": "markdown",
   "id": "5a2a6f31",
   "metadata": {},
   "source": [
    "A quick look at the available data for our target variable of interest."
   ]
  },
  {
   "cell_type": "code",
   "execution_count": 36,
   "id": "1dab9930",
   "metadata": {},
   "outputs": [
    {
     "name": "stdout",
     "output_type": "stream",
     "text": [
      "The total number of cancellations is 1705972.\n",
      "The total number of provided reasons for flights being canceled is 33029.\n",
      "The number of cancellations due to carrier is 14199.\n",
      "The number of cancellations due to weather is 16438.\n",
      "The number of cancellations due to national air system is 2262.\n",
      "The number of cancellations due to security is 130.\n"
     ]
    }
   ],
   "source": [
    "print(f\"The total number of cancellations is {df[\"cancelled\"].sum()}.\")\n",
    "print(f\"The total number of provided reasons for flights being canceled is {df[\"cancellation_code\"].notna().sum()}.\")\n",
    "print(f\"The number of cancellations due to carrier is {sum(df[\"cancellation_code\"] == \"A\")}.\")\n",
    "print(f\"The number of cancellations due to weather is {sum(df[\"cancellation_code\"] == \"B\")}.\")\n",
    "print(f\"The number of cancellations due to national air system is {sum(df[\"cancellation_code\"] == \"C\")}.\")\n",
    "print(f\"The number of cancellations due to security is {sum(df[\"cancellation_code\"] == \"D\")}.\")"
   ]
  },
  {
   "cell_type": "markdown",
   "id": "d6b66e98",
   "metadata": {},
   "source": [
    "### Train-Validation-Test Split"
   ]
  },
  {
   "cell_type": "markdown",
   "id": "dc9e1ece",
   "metadata": {},
   "source": [
    "Split the DataFrame into X (features) and y (target variable)"
   ]
  },
  {
   "cell_type": "code",
   "execution_count": 6,
   "id": "ad22d18f",
   "metadata": {},
   "outputs": [],
   "source": [
    "y = df[[\"cancelled\"]]\n",
    "X = df.drop(\"cancelled\", axis=1) #dropping the column \"cancelled\""
   ]
  },
  {
   "cell_type": "markdown",
   "id": "eecb0d6a",
   "metadata": {},
   "source": [
    "Selecting which variables we think are important to use in our logistic regression model, a priori."
   ]
  },
  {
   "cell_type": "code",
   "execution_count": 7,
   "id": "90b1fe43",
   "metadata": {},
   "outputs": [],
   "source": [
    "X = X[[\"operating_airline\", \"origin\", \"crs_dep_time\", \"dep_delay\", \"distance\"]]"
   ]
  },
  {
   "cell_type": "markdown",
   "id": "afd1f1ea",
   "metadata": {},
   "source": [
    "One-hot encode the categorical variables (\"operating_airline\" and \"origin\")"
   ]
  },
  {
   "cell_type": "code",
   "execution_count": 8,
   "id": "9160cd45",
   "metadata": {},
   "outputs": [],
   "source": [
    "# define one hot encoding\n",
    "encoder = OneHotEncoder(sparse_output=False, drop=\"first\")\n",
    "# transform data\n",
    "\n",
    "encoder.fit(X[[\"operating_airline\", \"origin\"]])\n",
    "\n",
    "onehot = encoder.transform(X[[\"operating_airline\", \"origin\"]])\n",
    "# print(onehot)\n",
    "\n",
    "# get column names\n",
    "col_names = encoder.get_feature_names_out([\"operating_airline\", \"origin\"])\n",
    "\n",
    "# Create DataFrame with proper column names\n",
    "one_hot_df = pd.DataFrame(onehot, columns=col_names)\n"
   ]
  },
  {
   "cell_type": "code",
   "execution_count": 9,
   "id": "7d4966c0",
   "metadata": {},
   "outputs": [
    {
     "data": {
      "application/vnd.microsoft.datawrangler.viewer.v0+json": {
       "columns": [
        {
         "name": "index",
         "rawType": "int64",
         "type": "integer"
        },
        {
         "name": "operating_airline_AS",
         "rawType": "float64",
         "type": "float"
        },
        {
         "name": "operating_airline_B6",
         "rawType": "float64",
         "type": "float"
        },
        {
         "name": "operating_airline_DL",
         "rawType": "float64",
         "type": "float"
        },
        {
         "name": "operating_airline_F9",
         "rawType": "float64",
         "type": "float"
        },
        {
         "name": "operating_airline_G4",
         "rawType": "float64",
         "type": "float"
        },
        {
         "name": "operating_airline_HA",
         "rawType": "float64",
         "type": "float"
        },
        {
         "name": "operating_airline_NK",
         "rawType": "float64",
         "type": "float"
        },
        {
         "name": "operating_airline_UA",
         "rawType": "float64",
         "type": "float"
        },
        {
         "name": "operating_airline_WN",
         "rawType": "float64",
         "type": "float"
        },
        {
         "name": "origin_CLT",
         "rawType": "float64",
         "type": "float"
        },
        {
         "name": "origin_DEN",
         "rawType": "float64",
         "type": "float"
        },
        {
         "name": "origin_DFW",
         "rawType": "float64",
         "type": "float"
        },
        {
         "name": "origin_LAS",
         "rawType": "float64",
         "type": "float"
        },
        {
         "name": "origin_LAX",
         "rawType": "float64",
         "type": "float"
        },
        {
         "name": "origin_MCO",
         "rawType": "float64",
         "type": "float"
        },
        {
         "name": "origin_MIA",
         "rawType": "float64",
         "type": "float"
        },
        {
         "name": "origin_ORD",
         "rawType": "float64",
         "type": "float"
        },
        {
         "name": "origin_PHX",
         "rawType": "float64",
         "type": "float"
        }
       ],
       "ref": "acc0d716-82b5-4570-b3bb-16b953459f32",
       "rows": [
        [
         "0",
         "0.0",
         "0.0",
         "0.0",
         "0.0",
         "0.0",
         "0.0",
         "0.0",
         "0.0",
         "1.0",
         "0.0",
         "0.0",
         "0.0",
         "0.0",
         "0.0",
         "0.0",
         "0.0",
         "0.0",
         "0.0"
        ],
        [
         "1",
         "0.0",
         "0.0",
         "0.0",
         "0.0",
         "0.0",
         "0.0",
         "0.0",
         "0.0",
         "1.0",
         "0.0",
         "0.0",
         "0.0",
         "0.0",
         "0.0",
         "0.0",
         "0.0",
         "0.0",
         "0.0"
        ],
        [
         "2",
         "0.0",
         "0.0",
         "0.0",
         "0.0",
         "0.0",
         "0.0",
         "0.0",
         "0.0",
         "1.0",
         "0.0",
         "0.0",
         "0.0",
         "0.0",
         "0.0",
         "0.0",
         "0.0",
         "0.0",
         "0.0"
        ],
        [
         "3",
         "0.0",
         "0.0",
         "0.0",
         "0.0",
         "0.0",
         "0.0",
         "0.0",
         "0.0",
         "1.0",
         "0.0",
         "0.0",
         "0.0",
         "0.0",
         "0.0",
         "0.0",
         "0.0",
         "0.0",
         "0.0"
        ],
        [
         "4",
         "0.0",
         "0.0",
         "0.0",
         "0.0",
         "0.0",
         "0.0",
         "0.0",
         "0.0",
         "1.0",
         "0.0",
         "0.0",
         "0.0",
         "0.0",
         "0.0",
         "0.0",
         "0.0",
         "0.0",
         "0.0"
        ]
       ],
       "shape": {
        "columns": 18,
        "rows": 5
       }
      },
      "text/html": [
       "<div>\n",
       "<style scoped>\n",
       "    .dataframe tbody tr th:only-of-type {\n",
       "        vertical-align: middle;\n",
       "    }\n",
       "\n",
       "    .dataframe tbody tr th {\n",
       "        vertical-align: top;\n",
       "    }\n",
       "\n",
       "    .dataframe thead th {\n",
       "        text-align: right;\n",
       "    }\n",
       "</style>\n",
       "<table border=\"1\" class=\"dataframe\">\n",
       "  <thead>\n",
       "    <tr style=\"text-align: right;\">\n",
       "      <th></th>\n",
       "      <th>operating_airline_AS</th>\n",
       "      <th>operating_airline_B6</th>\n",
       "      <th>operating_airline_DL</th>\n",
       "      <th>operating_airline_F9</th>\n",
       "      <th>operating_airline_G4</th>\n",
       "      <th>operating_airline_HA</th>\n",
       "      <th>operating_airline_NK</th>\n",
       "      <th>operating_airline_UA</th>\n",
       "      <th>operating_airline_WN</th>\n",
       "      <th>origin_CLT</th>\n",
       "      <th>origin_DEN</th>\n",
       "      <th>origin_DFW</th>\n",
       "      <th>origin_LAS</th>\n",
       "      <th>origin_LAX</th>\n",
       "      <th>origin_MCO</th>\n",
       "      <th>origin_MIA</th>\n",
       "      <th>origin_ORD</th>\n",
       "      <th>origin_PHX</th>\n",
       "    </tr>\n",
       "  </thead>\n",
       "  <tbody>\n",
       "    <tr>\n",
       "      <th>0</th>\n",
       "      <td>0.0</td>\n",
       "      <td>0.0</td>\n",
       "      <td>0.0</td>\n",
       "      <td>0.0</td>\n",
       "      <td>0.0</td>\n",
       "      <td>0.0</td>\n",
       "      <td>0.0</td>\n",
       "      <td>0.0</td>\n",
       "      <td>1.0</td>\n",
       "      <td>0.0</td>\n",
       "      <td>0.0</td>\n",
       "      <td>0.0</td>\n",
       "      <td>0.0</td>\n",
       "      <td>0.0</td>\n",
       "      <td>0.0</td>\n",
       "      <td>0.0</td>\n",
       "      <td>0.0</td>\n",
       "      <td>0.0</td>\n",
       "    </tr>\n",
       "    <tr>\n",
       "      <th>1</th>\n",
       "      <td>0.0</td>\n",
       "      <td>0.0</td>\n",
       "      <td>0.0</td>\n",
       "      <td>0.0</td>\n",
       "      <td>0.0</td>\n",
       "      <td>0.0</td>\n",
       "      <td>0.0</td>\n",
       "      <td>0.0</td>\n",
       "      <td>1.0</td>\n",
       "      <td>0.0</td>\n",
       "      <td>0.0</td>\n",
       "      <td>0.0</td>\n",
       "      <td>0.0</td>\n",
       "      <td>0.0</td>\n",
       "      <td>0.0</td>\n",
       "      <td>0.0</td>\n",
       "      <td>0.0</td>\n",
       "      <td>0.0</td>\n",
       "    </tr>\n",
       "    <tr>\n",
       "      <th>2</th>\n",
       "      <td>0.0</td>\n",
       "      <td>0.0</td>\n",
       "      <td>0.0</td>\n",
       "      <td>0.0</td>\n",
       "      <td>0.0</td>\n",
       "      <td>0.0</td>\n",
       "      <td>0.0</td>\n",
       "      <td>0.0</td>\n",
       "      <td>1.0</td>\n",
       "      <td>0.0</td>\n",
       "      <td>0.0</td>\n",
       "      <td>0.0</td>\n",
       "      <td>0.0</td>\n",
       "      <td>0.0</td>\n",
       "      <td>0.0</td>\n",
       "      <td>0.0</td>\n",
       "      <td>0.0</td>\n",
       "      <td>0.0</td>\n",
       "    </tr>\n",
       "    <tr>\n",
       "      <th>3</th>\n",
       "      <td>0.0</td>\n",
       "      <td>0.0</td>\n",
       "      <td>0.0</td>\n",
       "      <td>0.0</td>\n",
       "      <td>0.0</td>\n",
       "      <td>0.0</td>\n",
       "      <td>0.0</td>\n",
       "      <td>0.0</td>\n",
       "      <td>1.0</td>\n",
       "      <td>0.0</td>\n",
       "      <td>0.0</td>\n",
       "      <td>0.0</td>\n",
       "      <td>0.0</td>\n",
       "      <td>0.0</td>\n",
       "      <td>0.0</td>\n",
       "      <td>0.0</td>\n",
       "      <td>0.0</td>\n",
       "      <td>0.0</td>\n",
       "    </tr>\n",
       "    <tr>\n",
       "      <th>4</th>\n",
       "      <td>0.0</td>\n",
       "      <td>0.0</td>\n",
       "      <td>0.0</td>\n",
       "      <td>0.0</td>\n",
       "      <td>0.0</td>\n",
       "      <td>0.0</td>\n",
       "      <td>0.0</td>\n",
       "      <td>0.0</td>\n",
       "      <td>1.0</td>\n",
       "      <td>0.0</td>\n",
       "      <td>0.0</td>\n",
       "      <td>0.0</td>\n",
       "      <td>0.0</td>\n",
       "      <td>0.0</td>\n",
       "      <td>0.0</td>\n",
       "      <td>0.0</td>\n",
       "      <td>0.0</td>\n",
       "      <td>0.0</td>\n",
       "    </tr>\n",
       "  </tbody>\n",
       "</table>\n",
       "</div>"
      ],
      "text/plain": [
       "   operating_airline_AS  operating_airline_B6  operating_airline_DL  \\\n",
       "0                   0.0                   0.0                   0.0   \n",
       "1                   0.0                   0.0                   0.0   \n",
       "2                   0.0                   0.0                   0.0   \n",
       "3                   0.0                   0.0                   0.0   \n",
       "4                   0.0                   0.0                   0.0   \n",
       "\n",
       "   operating_airline_F9  operating_airline_G4  operating_airline_HA  \\\n",
       "0                   0.0                   0.0                   0.0   \n",
       "1                   0.0                   0.0                   0.0   \n",
       "2                   0.0                   0.0                   0.0   \n",
       "3                   0.0                   0.0                   0.0   \n",
       "4                   0.0                   0.0                   0.0   \n",
       "\n",
       "   operating_airline_NK  operating_airline_UA  operating_airline_WN  \\\n",
       "0                   0.0                   0.0                   1.0   \n",
       "1                   0.0                   0.0                   1.0   \n",
       "2                   0.0                   0.0                   1.0   \n",
       "3                   0.0                   0.0                   1.0   \n",
       "4                   0.0                   0.0                   1.0   \n",
       "\n",
       "   origin_CLT  origin_DEN  origin_DFW  origin_LAS  origin_LAX  origin_MCO  \\\n",
       "0         0.0         0.0         0.0         0.0         0.0         0.0   \n",
       "1         0.0         0.0         0.0         0.0         0.0         0.0   \n",
       "2         0.0         0.0         0.0         0.0         0.0         0.0   \n",
       "3         0.0         0.0         0.0         0.0         0.0         0.0   \n",
       "4         0.0         0.0         0.0         0.0         0.0         0.0   \n",
       "\n",
       "   origin_MIA  origin_ORD  origin_PHX  \n",
       "0         0.0         0.0         0.0  \n",
       "1         0.0         0.0         0.0  \n",
       "2         0.0         0.0         0.0  \n",
       "3         0.0         0.0         0.0  \n",
       "4         0.0         0.0         0.0  "
      ]
     },
     "execution_count": 9,
     "metadata": {},
     "output_type": "execute_result"
    }
   ],
   "source": [
    "one_hot_df.head()"
   ]
  },
  {
   "cell_type": "code",
   "execution_count": 10,
   "id": "184e690e",
   "metadata": {},
   "outputs": [],
   "source": [
    "# merged one-hot-encoded DataFrame with original X DataFrame\n",
    "x_encoded = pd.concat([X, one_hot_df], axis=1)"
   ]
  },
  {
   "cell_type": "markdown",
   "id": "d91b0aeb",
   "metadata": {},
   "source": [
    "Create 50:40:10 train:validation:test split before performing exploratory data analysis to prevent data leakage and overfitting. Model development and feature selection will be done on the training set only."
   ]
  },
  {
   "cell_type": "code",
   "execution_count": 11,
   "id": "9c7f67af",
   "metadata": {},
   "outputs": [],
   "source": [
    "### Train, Validation, Test Split\n",
    "\n",
    "x_train, x_valtest, y_train, y_valtest = train_test_split(x_encoded, y, train_size=0.50, random_state=123)\n",
    "x_val, x_test, y_val, y_test = train_test_split(x_valtest, y_valtest, train_size=0.8, random_state=123)"
   ]
  },
  {
   "cell_type": "code",
   "execution_count": 12,
   "id": "6d507711",
   "metadata": {},
   "outputs": [],
   "source": [
    "# print(x_train.shape)\n",
    "#     # (836471, 23) \n",
    "# print(x_val.shape)\n",
    "#     # (669177, 23)\n",
    "# print(x_test.shape)\n",
    "#     # (167295, 23)\n",
    "# print(y_train.shape)\n",
    "#     # (836471, 1)\n",
    "# print(y_val.shape)\n",
    "#     # (669177, 1)\n",
    "# print(y_test.shape)\n",
    "#     # (167295, 1)"
   ]
  },
  {
   "cell_type": "markdown",
   "id": "6e1be0a3",
   "metadata": {},
   "source": [
    "### Exploratory Data Analysis"
   ]
  },
  {
   "cell_type": "markdown",
   "id": "67a5d29f",
   "metadata": {},
   "source": [
    "First, let's take a look at our target variable."
   ]
  },
  {
   "cell_type": "code",
   "execution_count": null,
   "id": "dfc772ef",
   "metadata": {},
   "outputs": [
    {
     "name": "stdout",
     "output_type": "stream",
     "text": [
      "cancelled\n",
      "1            819915\n",
      "2             16556\n",
      "Name: count, dtype: int64\n",
      "cancelled\n",
      "0            819915\n",
      "1             16556\n",
      "Name: count, dtype: int64\n"
     ]
    }
   ],
   "source": [
    "print(y_train.value_counts())\n",
    "    # currently, the binary variable has values 1 and 2 when originally they were 0 (no) and 1 (yes)\n",
    "\n",
    "# transform binary variable \"cancelled\" with values 1 and 2 to 0 and 1, respectively\n",
    "y_train = y_train - 1\n",
    "y_val = y_val - 1\n",
    "y_test = y_test - 1\n",
    "\n",
    "print(y_train.value_counts()) # check to make sure response variable is binary with 0,1"
   ]
  },
  {
   "cell_type": "markdown",
   "id": "1a70a199",
   "metadata": {},
   "source": [
    "Only keep the hour when the flight was expected to depart"
   ]
  },
  {
   "cell_type": "code",
   "execution_count": 13,
   "id": "2ff33997",
   "metadata": {},
   "outputs": [],
   "source": [
    "### create new var crs_dep_hour to only include the expected hour of departure and drop the crs_dep_time var\n",
    "x_train[\"crs_dep_hour\"] = x_train[\"crs_dep_time\"].astype(str).str.zfill(4).str[:2].astype(int)\n",
    "x_train = x_train.drop(columns=[\"crs_dep_time\"])\n",
    "\n",
    "x_val[\"crs_dep_hour\"] = x_val[\"crs_dep_time\"].astype(str).str.zfill(4).str[:2].astype(int)\n",
    "x_val = x_val.drop(columns=[\"crs_dep_time\"])\n",
    "\n",
    "x_test[\"crs_dep_hour\"] = x_test[\"crs_dep_time\"].astype(str).str.zfill(4).str[:2].astype(int)\n",
    "x_test = x_test.drop(columns=[\"crs_dep_time\"])"
   ]
  },
  {
   "cell_type": "code",
   "execution_count": 14,
   "id": "0bff5b2c",
   "metadata": {},
   "outputs": [],
   "source": [
    "# impute missing values in dep_delay using the median (data is skewed)\n",
    "x_train[\"dep_delay\"] = x_train['dep_delay'].fillna(x_train[\"dep_delay\"].median())\n",
    "\n",
    "x_val[\"dep_delay\"] = x_val['dep_delay'].fillna(x_val[\"dep_delay\"].median())\n",
    "\n",
    "x_test[\"dep_delay\"] = x_test['dep_delay'].fillna(x_test[\"dep_delay\"].median())"
   ]
  },
  {
   "cell_type": "code",
   "execution_count": null,
   "id": "7899f1f9",
   "metadata": {},
   "outputs": [],
   "source": [
    "# convert departure delay variable into type integer\n",
    "x_train[\"dep_delay\"] = x_train[\"dep_delay\"].astype(int)\n",
    "\n",
    "x_val[\"dep_delay\"] = x_val[\"dep_delay\"].astype(int)\n",
    "\n",
    "x_test[\"dep_delay\"] = x_test[\"dep_delay\"].astype(int)"
   ]
  },
  {
   "cell_type": "code",
   "execution_count": null,
   "id": "31af54e5",
   "metadata": {},
   "outputs": [
    {
     "data": {
      "application/vnd.microsoft.datawrangler.viewer.v0+json": {
       "columns": [
        {
         "name": "index",
         "rawType": "object",
         "type": "string"
        },
        {
         "name": "0",
         "rawType": "object",
         "type": "unknown"
        }
       ],
       "ref": "cafe8ef2-719b-41bb-987d-78504dd75e4c",
       "rows": [
        [
         "operating_airline",
         "object"
        ],
        [
         "origin",
         "object"
        ],
        [
         "dep_delay",
         "int64"
        ],
        [
         "distance",
         "int64"
        ],
        [
         "operating_airline_AS",
         "float64"
        ],
        [
         "operating_airline_B6",
         "float64"
        ],
        [
         "operating_airline_DL",
         "float64"
        ],
        [
         "operating_airline_F9",
         "float64"
        ],
        [
         "operating_airline_G4",
         "float64"
        ],
        [
         "operating_airline_HA",
         "float64"
        ],
        [
         "operating_airline_NK",
         "float64"
        ],
        [
         "operating_airline_UA",
         "float64"
        ],
        [
         "operating_airline_WN",
         "float64"
        ],
        [
         "origin_CLT",
         "float64"
        ],
        [
         "origin_DEN",
         "float64"
        ],
        [
         "origin_DFW",
         "float64"
        ],
        [
         "origin_LAS",
         "float64"
        ],
        [
         "origin_LAX",
         "float64"
        ],
        [
         "origin_MCO",
         "float64"
        ],
        [
         "origin_MIA",
         "float64"
        ],
        [
         "origin_ORD",
         "float64"
        ],
        [
         "origin_PHX",
         "float64"
        ],
        [
         "crs_dep_hour",
         "int64"
        ]
       ],
       "shape": {
        "columns": 1,
        "rows": 23
       }
      },
      "text/plain": [
       "operating_airline        object\n",
       "origin                   object\n",
       "dep_delay                 int64\n",
       "distance                  int64\n",
       "operating_airline_AS    float64\n",
       "operating_airline_B6    float64\n",
       "operating_airline_DL    float64\n",
       "operating_airline_F9    float64\n",
       "operating_airline_G4    float64\n",
       "operating_airline_HA    float64\n",
       "operating_airline_NK    float64\n",
       "operating_airline_UA    float64\n",
       "operating_airline_WN    float64\n",
       "origin_CLT              float64\n",
       "origin_DEN              float64\n",
       "origin_DFW              float64\n",
       "origin_LAS              float64\n",
       "origin_LAX              float64\n",
       "origin_MCO              float64\n",
       "origin_MIA              float64\n",
       "origin_ORD              float64\n",
       "origin_PHX              float64\n",
       "crs_dep_hour              int64\n",
       "dtype: object"
      ]
     },
     "execution_count": 18,
     "metadata": {},
     "output_type": "execute_result"
    }
   ],
   "source": [
    "# check to make sure features are of correct type\n",
    "x_train.columns\n",
    "x_train.dtypes"
   ]
  },
  {
   "cell_type": "markdown",
   "id": "32a9ca7f",
   "metadata": {},
   "source": [
    "Encode categorical features as a one-hot numeric array"
   ]
  },
  {
   "cell_type": "code",
   "execution_count": 16,
   "id": "591e69da",
   "metadata": {},
   "outputs": [
    {
     "data": {
      "text/plain": [
       "Index(['operating_airline', 'origin', 'dep_delay', 'distance',\n",
       "       'operating_airline_AS', 'operating_airline_B6', 'operating_airline_DL',\n",
       "       'operating_airline_F9', 'operating_airline_G4', 'operating_airline_HA',\n",
       "       'operating_airline_NK', 'operating_airline_UA', 'operating_airline_WN',\n",
       "       'origin_CLT', 'origin_DEN', 'origin_DFW', 'origin_LAS', 'origin_LAX',\n",
       "       'origin_MCO', 'origin_MIA', 'origin_ORD', 'origin_PHX', 'crs_dep_hour'],\n",
       "      dtype='object')"
      ]
     },
     "execution_count": 16,
     "metadata": {},
     "output_type": "execute_result"
    }
   ],
   "source": [
    "x_train.columns"
   ]
  },
  {
   "cell_type": "markdown",
   "id": "bba19230",
   "metadata": {},
   "source": [
    "### Basic Logistic Regression Model Using Five Predictors (Operating Airline, Origin Airport, Departure Hour, Departure Delay, and Distance)"
   ]
  },
  {
   "cell_type": "code",
   "execution_count": 17,
   "id": "2a146cff",
   "metadata": {},
   "outputs": [
    {
     "name": "stderr",
     "output_type": "stream",
     "text": [
      "c:\\ProgramData\\anaconda3\\envs\\tlin9\\Lib\\site-packages\\sklearn\\utils\\validation.py:1408: DataConversionWarning: A column-vector y was passed when a 1d array was expected. Please change the shape of y to (n_samples, ), for example using ravel().\n",
      "  y = column_or_1d(y, warn=True)\n",
      "c:\\ProgramData\\anaconda3\\envs\\tlin9\\Lib\\site-packages\\sklearn\\linear_model\\_logistic.py:465: ConvergenceWarning: lbfgs failed to converge (status=1):\n",
      "STOP: TOTAL NO. OF ITERATIONS REACHED LIMIT.\n",
      "\n",
      "Increase the number of iterations (max_iter) or scale the data as shown in:\n",
      "    https://scikit-learn.org/stable/modules/preprocessing.html\n",
      "Please also refer to the documentation for alternative solver options:\n",
      "    https://scikit-learn.org/stable/modules/linear_model.html#logistic-regression\n",
      "  n_iter_i = _check_optimize_result(\n"
     ]
    },
    {
     "name": "stdout",
     "output_type": "stream",
     "text": [
      "Accuracy:  0.5807282677079457\n",
      "              precision    recall  f1-score   support\n",
      "\n",
      "           0       0.99      0.58      0.73    655944\n",
      "           1       0.03      0.69      0.06     13233\n",
      "\n",
      "    accuracy                           0.58    669177\n",
      "   macro avg       0.51      0.63      0.40    669177\n",
      "weighted avg       0.97      0.58      0.72    669177\n",
      "\n"
     ]
    }
   ],
   "source": [
    "# Initialize logistic regression model\n",
    "log_model = LogisticRegression(max_iter=1000, random_state=123, class_weight=\"balanced\")\n",
    "    # max_iter can be increased if needed\n",
    "\n",
    "# fit the model to training data\n",
    "log_model.fit(x_train[['dep_delay', 'distance',\n",
    "       'operating_airline_AS', 'operating_airline_B6', 'operating_airline_DL',\n",
    "       'operating_airline_F9', 'operating_airline_G4', 'operating_airline_HA',\n",
    "       'operating_airline_NK', 'operating_airline_UA', 'operating_airline_WN',\n",
    "       'origin_CLT', 'origin_DEN', 'origin_DFW', 'origin_LAS', 'origin_LAX',\n",
    "       'origin_MCO', 'origin_MIA', 'origin_ORD', 'origin_PHX', 'crs_dep_hour']], y_train)\n",
    "\n",
    "# predict on validation data\n",
    "y_pred = log_model.predict(x_val[['dep_delay', 'distance',\n",
    "       'operating_airline_AS', 'operating_airline_B6', 'operating_airline_DL',\n",
    "       'operating_airline_F9', 'operating_airline_G4', 'operating_airline_HA',\n",
    "       'operating_airline_NK', 'operating_airline_UA', 'operating_airline_WN',\n",
    "       'origin_CLT', 'origin_DEN', 'origin_DFW', 'origin_LAS', 'origin_LAX',\n",
    "       'origin_MCO', 'origin_MIA', 'origin_ORD', 'origin_PHX', 'crs_dep_hour']])\n",
    "\n",
    "# evaluate model\n",
    "print(\"Accuracy: \", accuracy_score(y_val, y_pred))\n",
    "print(classification_report(y_val, y_pred))\n",
    "# print(log_model.coef_)\n"
   ]
  },
  {
   "cell_type": "code",
   "execution_count": null,
   "id": "4e3f6dfc",
   "metadata": {},
   "outputs": [
    {
     "name": "stdout",
     "output_type": "stream",
     "text": [
      "                 Feature  Coefficient  Importance\n",
      "16            origin_MCO     0.729350    0.729350\n",
      "13            origin_DFW     0.619709    0.619709\n",
      "18            origin_ORD     0.569038    0.569038\n",
      "9   operating_airline_UA    -0.526788    0.526788\n",
      "17            origin_MIA     0.491253    0.491253\n",
      "10  operating_airline_WN     0.400410    0.400410\n",
      "12            origin_DEN     0.332347    0.332347\n",
      "2   operating_airline_AS     0.317871    0.317871\n",
      "7   operating_airline_HA    -0.308680    0.308680\n",
      "11            origin_CLT     0.267527    0.267527\n",
      "8   operating_airline_NK     0.252459    0.252459\n",
      "4   operating_airline_DL    -0.235266    0.235266\n",
      "14            origin_LAS     0.177300    0.177300\n",
      "6   operating_airline_G4    -0.169986    0.169986\n",
      "3   operating_airline_B6     0.091324    0.091324\n",
      "5   operating_airline_F9     0.082547    0.082547\n",
      "19            origin_PHX    -0.062877    0.062877\n",
      "15            origin_LAX     0.048165    0.048165\n",
      "20          crs_dep_hour     0.040423    0.040423\n",
      "0              dep_delay    -0.026448    0.026448\n",
      "1               distance    -0.000044    0.000044\n"
     ]
    }
   ],
   "source": [
    "# Feature importance from our basic logistic regression\n",
    "feature_names_basic = x_train[['dep_delay', 'distance',\n",
    "       'operating_airline_AS', 'operating_airline_B6', 'operating_airline_DL',\n",
    "       'operating_airline_F9', 'operating_airline_G4', 'operating_airline_HA',\n",
    "       'operating_airline_NK', 'operating_airline_UA', 'operating_airline_WN',\n",
    "       'origin_CLT', 'origin_DEN', 'origin_DFW', 'origin_LAS', 'origin_LAX',\n",
    "       'origin_MCO', 'origin_MIA', 'origin_ORD', 'origin_PHX', 'crs_dep_hour']].columns\n",
    "coefficients_basics = log_model.coef_[0]\n",
    "feature_importance_basics = pd.DataFrame({\n",
    "    'Feature': feature_names_basic,\n",
    "    'Coefficient': coefficients_basics,\n",
    "    'Importance': np.abs(coefficients_basics)\n",
    "})\n",
    "\n",
    "feature_importance_basics = feature_importance_basics.sort_values(by = 'Importance', ascending = False)\n",
    "print(feature_importance_basics)"
   ]
  },
  {
   "cell_type": "markdown",
   "id": "ab26879c",
   "metadata": {},
   "source": [
    "### Synthetic Minority Oversampling Technique (SMOTE)\n",
    "After noticing an imbalance in our response variable, we implemented SMOTE to help oversample our minority class (canceled flights)"
   ]
  },
  {
   "cell_type": "code",
   "execution_count": null,
   "id": "368762de",
   "metadata": {},
   "outputs": [],
   "source": [
    "#Apply SMOTE\n",
    "from imblearn.over_sampling import SMOTE\n",
    "\n",
    "sm = SMOTE(random_state=123)\n",
    "\n",
    "# resample dataset to create a more balanced dataset for training \n",
    "x_res, y_res = sm.fit_resample(x_train[['dep_delay', 'distance',\n",
    "       'operating_airline_AS', 'operating_airline_B6', 'operating_airline_DL',\n",
    "       'operating_airline_F9', 'operating_airline_G4', 'operating_airline_HA',\n",
    "       'operating_airline_NK', 'operating_airline_UA', 'operating_airline_WN',\n",
    "       'origin_CLT', 'origin_DEN', 'origin_DFW', 'origin_LAS', 'origin_LAX',\n",
    "       'origin_MCO', 'origin_MIA', 'origin_ORD', 'origin_PHX', 'crs_dep_hour']], y_train)"
   ]
  },
  {
   "cell_type": "code",
   "execution_count": 44,
   "id": "01e7bbbd",
   "metadata": {},
   "outputs": [
    {
     "name": "stderr",
     "output_type": "stream",
     "text": [
      "c:\\ProgramData\\anaconda3\\envs\\tlin9\\Lib\\site-packages\\sklearn\\utils\\validation.py:1408: DataConversionWarning: A column-vector y was passed when a 1d array was expected. Please change the shape of y to (n_samples, ), for example using ravel().\n",
      "  y = column_or_1d(y, warn=True)\n"
     ]
    },
    {
     "name": "stdout",
     "output_type": "stream",
     "text": [
      "Validation accuracy after SMOTE: 0.5835586100538422\n"
     ]
    },
    {
     "name": "stderr",
     "output_type": "stream",
     "text": [
      "c:\\ProgramData\\anaconda3\\envs\\tlin9\\Lib\\site-packages\\sklearn\\linear_model\\_logistic.py:465: ConvergenceWarning: lbfgs failed to converge (status=1):\n",
      "STOP: TOTAL NO. OF ITERATIONS REACHED LIMIT.\n",
      "\n",
      "Increase the number of iterations (max_iter) or scale the data as shown in:\n",
      "    https://scikit-learn.org/stable/modules/preprocessing.html\n",
      "Please also refer to the documentation for alternative solver options:\n",
      "    https://scikit-learn.org/stable/modules/linear_model.html#logistic-regression\n",
      "  n_iter_i = _check_optimize_result(\n"
     ]
    }
   ],
   "source": [
    "log_model_res = LogisticRegression(random_state = 123)\n",
    "log_model_res.fit(x_res, y_res)\n",
    "       # fit logistic model to resampled training data (SMOTE)\n",
    "y_pred_val_res = log_model_res.predict(x_val[['dep_delay', 'distance',\n",
    "       'operating_airline_AS', 'operating_airline_B6', 'operating_airline_DL',\n",
    "       'operating_airline_F9', 'operating_airline_G4', 'operating_airline_HA',\n",
    "       'operating_airline_NK', 'operating_airline_UA', 'operating_airline_WN',\n",
    "       'origin_CLT', 'origin_DEN', 'origin_DFW', 'origin_LAS', 'origin_LAX',\n",
    "       'origin_MCO', 'origin_MIA', 'origin_ORD', 'origin_PHX', 'crs_dep_hour']])\n",
    "       # generate predictions on validation data\n",
    "print(f\"Validation accuracy after SMOTE: {accuracy_score(y_val, y_pred_val_res)}\")\n"
   ]
  },
  {
   "cell_type": "markdown",
   "id": "dd8768bf",
   "metadata": {},
   "source": [
    "Summary of the performance of our logistic regression model that has been balanced using the SMOTE technique"
   ]
  },
  {
   "cell_type": "code",
   "execution_count": 21,
   "id": "b3402a7f",
   "metadata": {},
   "outputs": [
    {
     "name": "stdout",
     "output_type": "stream",
     "text": [
      "              precision    recall  f1-score   support\n",
      "\n",
      "           0       0.99      0.58      0.73    655944\n",
      "           1       0.03      0.68      0.06     13233\n",
      "\n",
      "    accuracy                           0.58    669177\n",
      "   macro avg       0.51      0.63      0.40    669177\n",
      "weighted avg       0.97      0.58      0.72    669177\n",
      "\n",
      "f1 score is 0.06040682560715333\n"
     ]
    }
   ],
   "source": [
    "from sklearn.metrics import f1_score\n",
    "print(classification_report(y_val, y_pred_val_res))\n",
    "print(f\"f1 score is {f1_score(y_val, y_pred_val_res, average='binary')}\")"
   ]
  },
  {
   "cell_type": "code",
   "execution_count": 41,
   "id": "f99aa38e",
   "metadata": {},
   "outputs": [
    {
     "name": "stdout",
     "output_type": "stream",
     "text": [
      "Confusion Matrix:\n",
      "[[381546 274398]\n",
      " [  4275   8958]]\n",
      "ROC-AUC: 0.629309329390392\n"
     ]
    }
   ],
   "source": [
    "from sklearn.metrics import confusion_matrix, ConfusionMatrixDisplay, roc_auc_score\n",
    "cm = confusion_matrix(y_val, y_pred_val_res)\n",
    "print(\"Confusion Matrix:\")\n",
    "print(cm)\n",
    "print(\"ROC-AUC:\", roc_auc_score(y_val, y_pred_val_res))"
   ]
  },
  {
   "cell_type": "markdown",
   "id": "e49aa21f",
   "metadata": {},
   "source": [
    "### SMOTE + Tomek (SMOTEENN) - SMOTE with Edited Nearests Neighbors\n",
    "As SMOTE may produce noisy or irrelavent synthetic samples for the minority class, especially in regions where the minority class is highly concentrated, overfitting may occur. SMOTEENN is a technique that can help remove those noisy/irrelavent samples, making the overall model that is produced more generalizable compared to the SMOTE technique for oversampling. "
   ]
  },
  {
   "cell_type": "code",
   "execution_count": null,
   "id": "bf664e60",
   "metadata": {},
   "outputs": [],
   "source": [
    "from imblearn.combine import SMOTEENN\n",
    "\n",
    "smote_enn = SMOTEENN(random_state=123)\n",
    "# resample dataset to create a more balanced dataset for training using SMOTEENN on all five features selected a priori\n",
    "X_resampled, y_resampled = smote_enn.fit_resample(x_train[['dep_delay', 'distance',\n",
    "       'operating_airline_AS', 'operating_airline_B6', 'operating_airline_DL',\n",
    "       'operating_airline_F9', 'operating_airline_G4', 'operating_airline_HA',\n",
    "       'operating_airline_NK', 'operating_airline_UA', 'operating_airline_WN',\n",
    "       'origin_CLT', 'origin_DEN', 'origin_DFW', 'origin_LAS', 'origin_LAX',\n",
    "       'origin_MCO', 'origin_MIA', 'origin_ORD', 'origin_PHX', 'crs_dep_hour']], y_train)"
   ]
  },
  {
   "cell_type": "code",
   "execution_count": 43,
   "id": "c07b6c30",
   "metadata": {},
   "outputs": [
    {
     "name": "stderr",
     "output_type": "stream",
     "text": [
      "c:\\ProgramData\\anaconda3\\envs\\tlin9\\Lib\\site-packages\\sklearn\\utils\\validation.py:1408: DataConversionWarning: A column-vector y was passed when a 1d array was expected. Please change the shape of y to (n_samples, ), for example using ravel().\n",
      "  y = column_or_1d(y, warn=True)\n"
     ]
    },
    {
     "name": "stdout",
     "output_type": "stream",
     "text": [
      "Validation accuracy after SMOTEENN: 0.814649935667245\n"
     ]
    },
    {
     "name": "stderr",
     "output_type": "stream",
     "text": [
      "c:\\ProgramData\\anaconda3\\envs\\tlin9\\Lib\\site-packages\\sklearn\\linear_model\\_logistic.py:465: ConvergenceWarning: lbfgs failed to converge (status=1):\n",
      "STOP: TOTAL NO. OF ITERATIONS REACHED LIMIT.\n",
      "\n",
      "Increase the number of iterations (max_iter) or scale the data as shown in:\n",
      "    https://scikit-learn.org/stable/modules/preprocessing.html\n",
      "Please also refer to the documentation for alternative solver options:\n",
      "    https://scikit-learn.org/stable/modules/linear_model.html#logistic-regression\n",
      "  n_iter_i = _check_optimize_result(\n"
     ]
    }
   ],
   "source": [
    "log_model_res2 = LogisticRegression(random_state = 123)\n",
    "log_model_res2.fit(X_resampled, y_resampled)\n",
    "       # fit logistic model to resampled training data (SMOTEENN)\n",
    "y_pred_val_res2 = log_model_res2.predict(x_val[['dep_delay', 'distance',\n",
    "       'operating_airline_AS', 'operating_airline_B6', 'operating_airline_DL',\n",
    "       'operating_airline_F9', 'operating_airline_G4', 'operating_airline_HA',\n",
    "       'operating_airline_NK', 'operating_airline_UA', 'operating_airline_WN',\n",
    "       'origin_CLT', 'origin_DEN', 'origin_DFW', 'origin_LAS', 'origin_LAX',\n",
    "       'origin_MCO', 'origin_MIA', 'origin_ORD', 'origin_PHX', 'crs_dep_hour']])\n",
    "       # generate predictions on validation data\n",
    "print(f\"Validation accuracy after SMOTEENN: {accuracy_score(y_val, y_pred_val_res2)}\")"
   ]
  },
  {
   "cell_type": "code",
   "execution_count": 45,
   "id": "3f73e9de",
   "metadata": {},
   "outputs": [
    {
     "name": "stdout",
     "output_type": "stream",
     "text": [
      "              precision    recall  f1-score   support\n",
      "\n",
      "           0       0.99      0.82      0.90    655944\n",
      "           1       0.04      0.40      0.08     13233\n",
      "\n",
      "    accuracy                           0.81    669177\n",
      "   macro avg       0.51      0.61      0.49    669177\n",
      "weighted avg       0.97      0.81      0.88    669177\n",
      "\n",
      "f1 score is 0.07806205122868569\n",
      "Confusion Matrix after SMOTEENN:\n",
      "[[539894 116050]\n",
      " [  7982   5251]]\n",
      "ROC-AUC: 0.6099452060069502\n"
     ]
    }
   ],
   "source": [
    "from sklearn.metrics import f1_score\n",
    "print(classification_report(y_val, y_pred_val_res2))\n",
    "print(f\"f1 score is {f1_score(y_val, y_pred_val_res2, average='binary')}\")\n",
    "from sklearn.metrics import confusion_matrix, ConfusionMatrixDisplay, roc_auc_score\n",
    "cm2 = confusion_matrix(y_val, y_pred_val_res2)\n",
    "print(\"Confusion Matrix after SMOTEENN:\")\n",
    "print(cm2)\n",
    "print(\"ROC-AUC:\", roc_auc_score(y_val, y_pred_val_res2))"
   ]
  },
  {
   "cell_type": "code",
   "execution_count": null,
   "id": "832da843",
   "metadata": {},
   "outputs": [
    {
     "name": "stdout",
     "output_type": "stream",
     "text": [
      "                 Feature  Coefficient  Importance\n",
      "9   operating_airline_UA    -0.710299    0.710299\n",
      "4   operating_airline_DL    -0.596166    0.596166\n",
      "16            origin_MCO     0.433197    0.433197\n",
      "10  operating_airline_WN     0.394439    0.394439\n",
      "11            origin_CLT    -0.322381    0.322381\n",
      "19            origin_PHX    -0.318522    0.318522\n",
      "8   operating_airline_NK     0.262003    0.262003\n",
      "18            origin_ORD     0.230118    0.230118\n",
      "15            origin_LAX    -0.217438    0.217438\n",
      "2   operating_airline_AS     0.172238    0.172238\n",
      "13            origin_DFW     0.165238    0.165238\n",
      "5   operating_airline_F9     0.093228    0.093228\n",
      "3   operating_airline_B6     0.084386    0.084386\n",
      "12            origin_DEN     0.083570    0.083570\n",
      "14            origin_LAS    -0.074850    0.074850\n",
      "17            origin_MIA     0.064480    0.064480\n",
      "7   operating_airline_HA    -0.047383    0.047383\n",
      "6   operating_airline_G4    -0.044087    0.044087\n",
      "20          crs_dep_hour     0.034294    0.034294\n",
      "0              dep_delay    -0.031224    0.031224\n",
      "1               distance    -0.000004    0.000004\n"
     ]
    }
   ],
   "source": [
    "# Feature importance from our logistic regression after SMOTEENN\n",
    "feature_names = X_resampled.columns\n",
    "coefficients = log_model_res2.coef_[0]\n",
    "feature_importance = pd.DataFrame({\n",
    "    'Feature': feature_names,\n",
    "    'Coefficient': coefficients,\n",
    "    'Importance': np.abs(coefficients)\n",
    "})\n",
    "\n",
    "feature_importance = feature_importance.sort_values(by = 'Importance', ascending = False)\n",
    "print(feature_importance)"
   ]
  },
  {
   "cell_type": "markdown",
   "id": "caafa0a1",
   "metadata": {},
   "source": [
    "### SMOTEENN using stepwise selected variables\n",
    "After performing a stepwise selection on our logistic regression model in R, we noted the significant predictors and created a new resampled dataset using only those stepwise selected features"
   ]
  },
  {
   "cell_type": "code",
   "execution_count": null,
   "id": "9c0ccea3",
   "metadata": {},
   "outputs": [],
   "source": [
    "from imblearn.combine import SMOTEENN\n",
    "\n",
    "smote_enn_stepwise = SMOTEENN(random_state=123)\n",
    "# resample dataset to create a more balanced dataset for training using SMOTEENN on stepwise selected features\n",
    "X_resampled_step, y_resampled_step = smote_enn_stepwise.fit_resample(x_train[['dep_delay', 'distance',\n",
    "       'operating_airline_AS', 'operating_airline_B6', 'operating_airline_DL', 'operating_airline_G4', 'operating_airline_HA',\n",
    "       'operating_airline_NK', 'operating_airline_UA', 'operating_airline_WN',\n",
    "       'origin_CLT', 'origin_DEN', 'origin_DFW', 'origin_LAS',\n",
    "       'origin_MCO', 'origin_MIA', 'origin_ORD', 'crs_dep_hour']], y_train)"
   ]
  },
  {
   "cell_type": "code",
   "execution_count": 46,
   "id": "de316ce1",
   "metadata": {},
   "outputs": [
    {
     "name": "stderr",
     "output_type": "stream",
     "text": [
      "c:\\ProgramData\\anaconda3\\envs\\tlin9\\Lib\\site-packages\\sklearn\\utils\\validation.py:1408: DataConversionWarning: A column-vector y was passed when a 1d array was expected. Please change the shape of y to (n_samples, ), for example using ravel().\n",
      "  y = column_or_1d(y, warn=True)\n"
     ]
    },
    {
     "name": "stdout",
     "output_type": "stream",
     "text": [
      "Validation accuracy after SMOTEENN (stepwise selected features): 0.8248998396537837\n"
     ]
    },
    {
     "name": "stderr",
     "output_type": "stream",
     "text": [
      "c:\\ProgramData\\anaconda3\\envs\\tlin9\\Lib\\site-packages\\sklearn\\linear_model\\_logistic.py:465: ConvergenceWarning: lbfgs failed to converge (status=1):\n",
      "STOP: TOTAL NO. OF ITERATIONS REACHED LIMIT.\n",
      "\n",
      "Increase the number of iterations (max_iter) or scale the data as shown in:\n",
      "    https://scikit-learn.org/stable/modules/preprocessing.html\n",
      "Please also refer to the documentation for alternative solver options:\n",
      "    https://scikit-learn.org/stable/modules/linear_model.html#logistic-regression\n",
      "  n_iter_i = _check_optimize_result(\n"
     ]
    }
   ],
   "source": [
    "log_model_res3 = LogisticRegression(random_state = 123)\n",
    "# fit logistic model to resampled training data (SMOTEENN)\n",
    "log_model_res3.fit(X_resampled_step, y_resampled_step)\n",
    "y_pred_val_res3 = log_model_res3.predict(x_val[['dep_delay', 'distance',\n",
    "       'operating_airline_AS', 'operating_airline_B6', 'operating_airline_DL', 'operating_airline_G4', 'operating_airline_HA',\n",
    "       'operating_airline_NK', 'operating_airline_UA', 'operating_airline_WN',\n",
    "       'origin_CLT', 'origin_DEN', 'origin_DFW', 'origin_LAS',\n",
    "       'origin_MCO', 'origin_MIA', 'origin_ORD', 'crs_dep_hour']])\n",
    "print(f\"Validation accuracy after SMOTEENN (stepwise selected features): {accuracy_score(y_val, y_pred_val_res3)}\")"
   ]
  },
  {
   "cell_type": "code",
   "execution_count": 47,
   "id": "291b14e8",
   "metadata": {},
   "outputs": [
    {
     "name": "stdout",
     "output_type": "stream",
     "text": [
      "              precision    recall  f1-score   support\n",
      "\n",
      "           0       0.99      0.83      0.90    655944\n",
      "           1       0.04      0.37      0.08     13233\n",
      "\n",
      "    accuracy                           0.82    669177\n",
      "   macro avg       0.51      0.60      0.49    669177\n",
      "weighted avg       0.97      0.82      0.89    669177\n",
      "\n",
      "f1 score is 0.07770475028533197\n",
      "Confusion Matrix: \n",
      "[[547068 108876]\n",
      " [  8297   4936]]\n",
      "ROC-AUC: 0.6035115976068678\n"
     ]
    }
   ],
   "source": [
    "from sklearn.metrics import f1_score\n",
    "print(classification_report(y_val, y_pred_val_res3))\n",
    "print(f\"f1 score is {f1_score(y_val, y_pred_val_res3, average='binary')}\")\n",
    "from sklearn.metrics import confusion_matrix, ConfusionMatrixDisplay, roc_auc_score\n",
    "cm2 = confusion_matrix(y_val, y_pred_val_res3)\n",
    "print(\"Confusion Matrix: \")\n",
    "print(cm2)\n",
    "print(\"ROC-AUC:\", roc_auc_score(y_val, y_pred_val_res3))"
   ]
  },
  {
   "cell_type": "code",
   "execution_count": 32,
   "id": "066c4759",
   "metadata": {},
   "outputs": [
    {
     "name": "stdout",
     "output_type": "stream",
     "text": [
      "                 Feature  Coefficient  Importance\n",
      "9   operating_airline_UA    -0.710299    0.710299\n",
      "4   operating_airline_DL    -0.596166    0.596166\n",
      "16            origin_MCO     0.433197    0.433197\n",
      "10  operating_airline_WN     0.394439    0.394439\n",
      "11            origin_CLT    -0.322381    0.322381\n",
      "19            origin_PHX    -0.318522    0.318522\n",
      "8   operating_airline_NK     0.262003    0.262003\n",
      "18            origin_ORD     0.230118    0.230118\n",
      "15            origin_LAX    -0.217438    0.217438\n",
      "2   operating_airline_AS     0.172238    0.172238\n",
      "13            origin_DFW     0.165238    0.165238\n",
      "5   operating_airline_F9     0.093228    0.093228\n",
      "3   operating_airline_B6     0.084386    0.084386\n",
      "12            origin_DEN     0.083570    0.083570\n",
      "14            origin_LAS    -0.074850    0.074850\n",
      "17            origin_MIA     0.064480    0.064480\n",
      "7   operating_airline_HA    -0.047383    0.047383\n",
      "6   operating_airline_G4    -0.044087    0.044087\n",
      "20          crs_dep_hour     0.034294    0.034294\n",
      "0              dep_delay    -0.031224    0.031224\n",
      "1               distance    -0.000004    0.000004\n"
     ]
    }
   ],
   "source": [
    "feature_names = X_resampled.columns\n",
    "coefficients = log_model_res2.coef_[0]\n",
    "feature_importance = pd.DataFrame({\n",
    "    'Feature': feature_names,\n",
    "    'Coefficient': coefficients,\n",
    "    'Importance': np.abs(coefficients)\n",
    "})\n",
    "\n",
    "feature_importance = feature_importance.sort_values(by = 'Importance', ascending = False)\n",
    "print(feature_importance)"
   ]
  },
  {
   "cell_type": "markdown",
   "id": "a70c4110",
   "metadata": {},
   "source": [
    "## Testing our Best Model - Smoteen from stepwise selected variables"
   ]
  },
  {
   "cell_type": "code",
   "execution_count": null,
   "id": "9354ebf8",
   "metadata": {},
   "outputs": [
    {
     "name": "stdout",
     "output_type": "stream",
     "text": [
      "              precision    recall  f1-score   support\n",
      "\n",
      "           0       0.99      0.83      0.90    164055\n",
      "           1       0.04      0.39      0.08      3240\n",
      "\n",
      "    accuracy                           0.83    167295\n",
      "   macro avg       0.52      0.61      0.49    167295\n",
      "weighted avg       0.97      0.83      0.89    167295\n",
      "\n",
      "Confusion Matrix: \n",
      "[[136898  27157]\n",
      " [  1969   1271]]\n",
      "ROC-AUC: 0.613374001153633\n",
      "Test accuracy after SMOTEENN (stepwise selected features): 0.825900355659165\n"
     ]
    }
   ],
   "source": [
    "y_pred_test_res3 = log_model_res3.predict(x_test[['dep_delay', 'distance',\n",
    "       'operating_airline_AS', 'operating_airline_B6', 'operating_airline_DL', 'operating_airline_G4', 'operating_airline_HA',\n",
    "       'operating_airline_NK', 'operating_airline_UA', 'operating_airline_WN',\n",
    "       'origin_CLT', 'origin_DEN', 'origin_DFW', 'origin_LAS',\n",
    "       'origin_MCO', 'origin_MIA', 'origin_ORD', 'crs_dep_hour']])\n",
    "# generate predictions on test data\n",
    "print(classification_report(y_test, y_pred_test_res3))\n",
    "cm3 = confusion_matrix(y_test, y_pred_test_res3)\n",
    "print(\"Confusion Matrix: \")\n",
    "print(cm3)\n",
    "print(\"ROC-AUC:\", roc_auc_score(y_test, y_pred_test_res3))\n",
    "print(f\"Test accuracy after SMOTEENN (stepwise selected features): {accuracy_score(y_test, y_pred_test_res3)}\")"
   ]
  },
  {
   "cell_type": "code",
   "execution_count": null,
   "id": "fdae29ca",
   "metadata": {},
   "outputs": [],
   "source": []
  }
 ],
 "metadata": {
  "kernelspec": {
   "display_name": "tlin9",
   "language": "python",
   "name": "python3"
  },
  "language_info": {
   "codemirror_mode": {
    "name": "ipython",
    "version": 3
   },
   "file_extension": ".py",
   "mimetype": "text/x-python",
   "name": "python",
   "nbconvert_exporter": "python",
   "pygments_lexer": "ipython3",
   "version": "3.12.11"
  }
 },
 "nbformat": 4,
 "nbformat_minor": 5
}
