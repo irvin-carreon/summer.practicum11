{
 "cells": [
  {
   "cell_type": "code",
   "execution_count": 42,
   "id": "970662e3",
   "metadata": {},
   "outputs": [],
   "source": [
    "### Import necessary packages\n",
    "import pandas as pd\n",
    "import numpy as np\n",
    "from numpy import asarray\n",
    "from sklearn.model_selection import train_test_split\n",
    "from sklearn.linear_model import LogisticRegression\n",
    "from sklearn.metrics import accuracy_score, classification_report\n",
    "from sklearn.preprocessing import OneHotEncoder\n",
    "from sklearn.compose import ColumnTransformer\n",
    "from sklearn.pipeline import Pipeline\n",
    "import statsmodels.formula.api as smf\n",
    "    # from textbook but requires combined X and y"
   ]
  },
  {
   "cell_type": "code",
   "execution_count": null,
   "id": "bcfadae4",
   "metadata": {},
   "outputs": [],
   "source": [
    "### ORIGINAL MERGED CSV\n",
    "# read original csv file into DataFrame\n",
    "# data = pd.read_csv(\"airline.csv\")\n",
    "\n",
    "# print(data.shape)\n",
    "    # (7065617, 120)"
   ]
  },
  {
   "cell_type": "code",
   "execution_count": null,
   "id": "385bd990",
   "metadata": {},
   "outputs": [],
   "source": [
    "### cLEANED BUT UNFILTERED CSV\n",
    "# read csv file into DataFrame (cleaned data)\n",
    "# clean = pd.read_csv(\"airline_data_clean.csv\")\n",
    "\n",
    "# print(clean.shape)\n",
    "    # (7065617, 69)\n"
   ]
  },
  {
   "cell_type": "markdown",
   "id": "61da6673",
   "metadata": {},
   "source": [
    "### Initial DataFrame\n",
    "read cleaned and filtered csv file (top_ports_lines.csv) in as a DataFrame"
   ]
  },
  {
   "cell_type": "code",
   "execution_count": 43,
   "id": "b7813f1c",
   "metadata": {},
   "outputs": [],
   "source": [
    "# READ CLEANED AND FILTERED CSV FILE INTO DATAFRAME\n",
    "df = pd.read_csv(\"top_ports_lines.csv\")\n",
    "# print(df.head())\n",
    "# print(df.shape)\n",
    "    # (1672943, 69)"
   ]
  },
  {
   "cell_type": "code",
   "execution_count": 44,
   "id": "4da3edae",
   "metadata": {},
   "outputs": [],
   "source": [
    "# retrieve the data types of all columns in the full DataFrame\n",
    "column_info = df.dtypes\n",
    "\n",
    "# print(column_info)"
   ]
  },
  {
   "cell_type": "markdown",
   "id": "5a2a6f31",
   "metadata": {},
   "source": [
    "A quick look at the available data for our target variable of interest."
   ]
  },
  {
   "cell_type": "code",
   "execution_count": 30,
   "id": "1dab9930",
   "metadata": {},
   "outputs": [
    {
     "name": "stdout",
     "output_type": "stream",
     "text": [
      "The total number of cancellations is 1705972.\n",
      "The total number of provided reasons for flights being canceled is 33029.\n",
      "The number of cancellations due to carrier is 14199.\n",
      "The number of cancellations due to weather is 16438.\n",
      "The number of cancellations due to national air system is 2262.\n",
      "The number of cancellations due to security is 130.\n"
     ]
    }
   ],
   "source": [
    "print(f\"The total number of cancellations is {df[\"cancelled\"].sum()}.\")\n",
    "print(f\"The total number of provided reasons for flights being canceled is {df[\"cancellation_code\"].notna().sum()}.\")\n",
    "print(f\"The number of cancellations due to carrier is {sum(df[\"cancellation_code\"] == \"A\")}.\")\n",
    "print(f\"The number of cancellations due to weather is {sum(df[\"cancellation_code\"] == \"B\")}.\")\n",
    "print(f\"The number of cancellations due to national air system is {sum(df[\"cancellation_code\"] == \"C\")}.\")\n",
    "print(f\"The number of cancellations due to security is {sum(df[\"cancellation_code\"] == \"D\")}.\")"
   ]
  },
  {
   "cell_type": "code",
   "execution_count": 45,
   "id": "baa7216d",
   "metadata": {},
   "outputs": [],
   "source": [
    "df['cancelled'] = df['cancelled'].map({1:0, 2:1})"
   ]
  },
  {
   "cell_type": "markdown",
   "id": "d6b66e98",
   "metadata": {},
   "source": [
    "### Train-Validation-Test Split"
   ]
  },
  {
   "cell_type": "markdown",
   "id": "dc9e1ece",
   "metadata": {},
   "source": [
    "Split the DataFrame into X (features) and y (target variable)"
   ]
  },
  {
   "cell_type": "code",
   "execution_count": 46,
   "id": "ad22d18f",
   "metadata": {},
   "outputs": [],
   "source": [
    "y = df[[\"cancelled\"]]\n",
    "X = df.drop(\"cancelled\", axis=1) #dropping the column \"cancelled\""
   ]
  },
  {
   "cell_type": "markdown",
   "id": "eecb0d6a",
   "metadata": {},
   "source": [
    "Selecting which variables we think are important to use in our logistic regression model, a priori."
   ]
  },
  {
   "cell_type": "code",
   "execution_count": 33,
   "id": "90b1fe43",
   "metadata": {},
   "outputs": [],
   "source": [
    "X = X[[\"operating_airline\", \"origin\", \"crs_dep_time\", \"dep_delay\",\n",
    "                   \"distance\", \"carrier_delay\", \"weather_delay\", \"nas_delay\",\n",
    "                   \"security_delay\", \"late_aircraft_delay\"]]"
   ]
  },
  {
   "cell_type": "markdown",
   "id": "afd1f1ea",
   "metadata": {},
   "source": [
    "One-hot encode the categorical variables (\"operating_airline\" and \"origin\")"
   ]
  },
  {
   "cell_type": "code",
   "execution_count": 47,
   "id": "9160cd45",
   "metadata": {},
   "outputs": [],
   "source": [
    "# define one hot encoding\n",
    "encoder = OneHotEncoder(sparse_output=False, drop=\"first\")\n",
    "# transform data\n",
    "\n",
    "encoder.fit(X[[\"operating_airline\", \"origin\"]])\n",
    "\n",
    "onehot = encoder.transform(X[[\"operating_airline\", \"origin\"]])\n",
    "# print(onehot)\n",
    "\n",
    "# get column names\n",
    "col_names = encoder.get_feature_names_out([\"operating_airline\", \"origin\"])\n",
    "\n",
    "# Create DataFrame with proper column names\n",
    "one_hot_df = pd.DataFrame(onehot, columns=col_names)\n"
   ]
  },
  {
   "cell_type": "code",
   "execution_count": 52,
   "id": "7d4966c0",
   "metadata": {},
   "outputs": [
    {
     "data": {
      "application/vnd.microsoft.datawrangler.viewer.v0+json": {
       "columns": [
        {
         "name": "index",
         "rawType": "int64",
         "type": "integer"
        },
        {
         "name": "operating_airline_AS",
         "rawType": "float64",
         "type": "float"
        },
        {
         "name": "operating_airline_B6",
         "rawType": "float64",
         "type": "float"
        },
        {
         "name": "operating_airline_DL",
         "rawType": "float64",
         "type": "float"
        },
        {
         "name": "operating_airline_F9",
         "rawType": "float64",
         "type": "float"
        },
        {
         "name": "operating_airline_G4",
         "rawType": "float64",
         "type": "float"
        },
        {
         "name": "operating_airline_HA",
         "rawType": "float64",
         "type": "float"
        },
        {
         "name": "operating_airline_NK",
         "rawType": "float64",
         "type": "float"
        },
        {
         "name": "operating_airline_UA",
         "rawType": "float64",
         "type": "float"
        },
        {
         "name": "operating_airline_WN",
         "rawType": "float64",
         "type": "float"
        },
        {
         "name": "origin_CLT",
         "rawType": "float64",
         "type": "float"
        },
        {
         "name": "origin_DEN",
         "rawType": "float64",
         "type": "float"
        },
        {
         "name": "origin_DFW",
         "rawType": "float64",
         "type": "float"
        },
        {
         "name": "origin_LAS",
         "rawType": "float64",
         "type": "float"
        },
        {
         "name": "origin_LAX",
         "rawType": "float64",
         "type": "float"
        },
        {
         "name": "origin_MCO",
         "rawType": "float64",
         "type": "float"
        },
        {
         "name": "origin_MIA",
         "rawType": "float64",
         "type": "float"
        },
        {
         "name": "origin_ORD",
         "rawType": "float64",
         "type": "float"
        },
        {
         "name": "origin_PHX",
         "rawType": "float64",
         "type": "float"
        }
       ],
       "ref": "d0196103-a496-4cd7-861d-9c1b307c530f",
       "rows": [
        [
         "0",
         "0.0",
         "0.0",
         "0.0",
         "0.0",
         "0.0",
         "0.0",
         "0.0",
         "0.0",
         "1.0",
         "0.0",
         "0.0",
         "0.0",
         "0.0",
         "0.0",
         "0.0",
         "0.0",
         "0.0",
         "0.0"
        ],
        [
         "1",
         "0.0",
         "0.0",
         "0.0",
         "0.0",
         "0.0",
         "0.0",
         "0.0",
         "0.0",
         "1.0",
         "0.0",
         "0.0",
         "0.0",
         "0.0",
         "0.0",
         "0.0",
         "0.0",
         "0.0",
         "0.0"
        ],
        [
         "2",
         "0.0",
         "0.0",
         "0.0",
         "0.0",
         "0.0",
         "0.0",
         "0.0",
         "0.0",
         "1.0",
         "0.0",
         "0.0",
         "0.0",
         "0.0",
         "0.0",
         "0.0",
         "0.0",
         "0.0",
         "0.0"
        ],
        [
         "3",
         "0.0",
         "0.0",
         "0.0",
         "0.0",
         "0.0",
         "0.0",
         "0.0",
         "0.0",
         "1.0",
         "0.0",
         "0.0",
         "0.0",
         "0.0",
         "0.0",
         "0.0",
         "0.0",
         "0.0",
         "0.0"
        ],
        [
         "4",
         "0.0",
         "0.0",
         "0.0",
         "0.0",
         "0.0",
         "0.0",
         "0.0",
         "0.0",
         "1.0",
         "0.0",
         "0.0",
         "0.0",
         "0.0",
         "0.0",
         "0.0",
         "0.0",
         "0.0",
         "0.0"
        ]
       ],
       "shape": {
        "columns": 18,
        "rows": 5
       }
      },
      "text/html": [
       "<div>\n",
       "<style scoped>\n",
       "    .dataframe tbody tr th:only-of-type {\n",
       "        vertical-align: middle;\n",
       "    }\n",
       "\n",
       "    .dataframe tbody tr th {\n",
       "        vertical-align: top;\n",
       "    }\n",
       "\n",
       "    .dataframe thead th {\n",
       "        text-align: right;\n",
       "    }\n",
       "</style>\n",
       "<table border=\"1\" class=\"dataframe\">\n",
       "  <thead>\n",
       "    <tr style=\"text-align: right;\">\n",
       "      <th></th>\n",
       "      <th>operating_airline_AS</th>\n",
       "      <th>operating_airline_B6</th>\n",
       "      <th>operating_airline_DL</th>\n",
       "      <th>operating_airline_F9</th>\n",
       "      <th>operating_airline_G4</th>\n",
       "      <th>operating_airline_HA</th>\n",
       "      <th>operating_airline_NK</th>\n",
       "      <th>operating_airline_UA</th>\n",
       "      <th>operating_airline_WN</th>\n",
       "      <th>origin_CLT</th>\n",
       "      <th>origin_DEN</th>\n",
       "      <th>origin_DFW</th>\n",
       "      <th>origin_LAS</th>\n",
       "      <th>origin_LAX</th>\n",
       "      <th>origin_MCO</th>\n",
       "      <th>origin_MIA</th>\n",
       "      <th>origin_ORD</th>\n",
       "      <th>origin_PHX</th>\n",
       "    </tr>\n",
       "  </thead>\n",
       "  <tbody>\n",
       "    <tr>\n",
       "      <th>0</th>\n",
       "      <td>0.0</td>\n",
       "      <td>0.0</td>\n",
       "      <td>0.0</td>\n",
       "      <td>0.0</td>\n",
       "      <td>0.0</td>\n",
       "      <td>0.0</td>\n",
       "      <td>0.0</td>\n",
       "      <td>0.0</td>\n",
       "      <td>1.0</td>\n",
       "      <td>0.0</td>\n",
       "      <td>0.0</td>\n",
       "      <td>0.0</td>\n",
       "      <td>0.0</td>\n",
       "      <td>0.0</td>\n",
       "      <td>0.0</td>\n",
       "      <td>0.0</td>\n",
       "      <td>0.0</td>\n",
       "      <td>0.0</td>\n",
       "    </tr>\n",
       "    <tr>\n",
       "      <th>1</th>\n",
       "      <td>0.0</td>\n",
       "      <td>0.0</td>\n",
       "      <td>0.0</td>\n",
       "      <td>0.0</td>\n",
       "      <td>0.0</td>\n",
       "      <td>0.0</td>\n",
       "      <td>0.0</td>\n",
       "      <td>0.0</td>\n",
       "      <td>1.0</td>\n",
       "      <td>0.0</td>\n",
       "      <td>0.0</td>\n",
       "      <td>0.0</td>\n",
       "      <td>0.0</td>\n",
       "      <td>0.0</td>\n",
       "      <td>0.0</td>\n",
       "      <td>0.0</td>\n",
       "      <td>0.0</td>\n",
       "      <td>0.0</td>\n",
       "    </tr>\n",
       "    <tr>\n",
       "      <th>2</th>\n",
       "      <td>0.0</td>\n",
       "      <td>0.0</td>\n",
       "      <td>0.0</td>\n",
       "      <td>0.0</td>\n",
       "      <td>0.0</td>\n",
       "      <td>0.0</td>\n",
       "      <td>0.0</td>\n",
       "      <td>0.0</td>\n",
       "      <td>1.0</td>\n",
       "      <td>0.0</td>\n",
       "      <td>0.0</td>\n",
       "      <td>0.0</td>\n",
       "      <td>0.0</td>\n",
       "      <td>0.0</td>\n",
       "      <td>0.0</td>\n",
       "      <td>0.0</td>\n",
       "      <td>0.0</td>\n",
       "      <td>0.0</td>\n",
       "    </tr>\n",
       "    <tr>\n",
       "      <th>3</th>\n",
       "      <td>0.0</td>\n",
       "      <td>0.0</td>\n",
       "      <td>0.0</td>\n",
       "      <td>0.0</td>\n",
       "      <td>0.0</td>\n",
       "      <td>0.0</td>\n",
       "      <td>0.0</td>\n",
       "      <td>0.0</td>\n",
       "      <td>1.0</td>\n",
       "      <td>0.0</td>\n",
       "      <td>0.0</td>\n",
       "      <td>0.0</td>\n",
       "      <td>0.0</td>\n",
       "      <td>0.0</td>\n",
       "      <td>0.0</td>\n",
       "      <td>0.0</td>\n",
       "      <td>0.0</td>\n",
       "      <td>0.0</td>\n",
       "    </tr>\n",
       "    <tr>\n",
       "      <th>4</th>\n",
       "      <td>0.0</td>\n",
       "      <td>0.0</td>\n",
       "      <td>0.0</td>\n",
       "      <td>0.0</td>\n",
       "      <td>0.0</td>\n",
       "      <td>0.0</td>\n",
       "      <td>0.0</td>\n",
       "      <td>0.0</td>\n",
       "      <td>1.0</td>\n",
       "      <td>0.0</td>\n",
       "      <td>0.0</td>\n",
       "      <td>0.0</td>\n",
       "      <td>0.0</td>\n",
       "      <td>0.0</td>\n",
       "      <td>0.0</td>\n",
       "      <td>0.0</td>\n",
       "      <td>0.0</td>\n",
       "      <td>0.0</td>\n",
       "    </tr>\n",
       "  </tbody>\n",
       "</table>\n",
       "</div>"
      ],
      "text/plain": [
       "   operating_airline_AS  operating_airline_B6  operating_airline_DL  \\\n",
       "0                   0.0                   0.0                   0.0   \n",
       "1                   0.0                   0.0                   0.0   \n",
       "2                   0.0                   0.0                   0.0   \n",
       "3                   0.0                   0.0                   0.0   \n",
       "4                   0.0                   0.0                   0.0   \n",
       "\n",
       "   operating_airline_F9  operating_airline_G4  operating_airline_HA  \\\n",
       "0                   0.0                   0.0                   0.0   \n",
       "1                   0.0                   0.0                   0.0   \n",
       "2                   0.0                   0.0                   0.0   \n",
       "3                   0.0                   0.0                   0.0   \n",
       "4                   0.0                   0.0                   0.0   \n",
       "\n",
       "   operating_airline_NK  operating_airline_UA  operating_airline_WN  \\\n",
       "0                   0.0                   0.0                   1.0   \n",
       "1                   0.0                   0.0                   1.0   \n",
       "2                   0.0                   0.0                   1.0   \n",
       "3                   0.0                   0.0                   1.0   \n",
       "4                   0.0                   0.0                   1.0   \n",
       "\n",
       "   origin_CLT  origin_DEN  origin_DFW  origin_LAS  origin_LAX  origin_MCO  \\\n",
       "0         0.0         0.0         0.0         0.0         0.0         0.0   \n",
       "1         0.0         0.0         0.0         0.0         0.0         0.0   \n",
       "2         0.0         0.0         0.0         0.0         0.0         0.0   \n",
       "3         0.0         0.0         0.0         0.0         0.0         0.0   \n",
       "4         0.0         0.0         0.0         0.0         0.0         0.0   \n",
       "\n",
       "   origin_MIA  origin_ORD  origin_PHX  \n",
       "0         0.0         0.0         0.0  \n",
       "1         0.0         0.0         0.0  \n",
       "2         0.0         0.0         0.0  \n",
       "3         0.0         0.0         0.0  \n",
       "4         0.0         0.0         0.0  "
      ]
     },
     "execution_count": 52,
     "metadata": {},
     "output_type": "execute_result"
    }
   ],
   "source": [
    "one_hot_df.head()"
   ]
  },
  {
   "cell_type": "code",
   "execution_count": 53,
   "id": "184e690e",
   "metadata": {},
   "outputs": [],
   "source": [
    "x_encoded = pd.concat([X, one_hot_df], axis=1)"
   ]
  },
  {
   "cell_type": "code",
   "execution_count": 54,
   "id": "f2c53198",
   "metadata": {},
   "outputs": [
    {
     "data": {
      "text/plain": [
       "Index(['year', 'quarter', 'month', 'dayof_month', 'day_of_week', 'flight_date',\n",
       "       'marketing_airline_network', 'operated_or_branded_code_share_partners',\n",
       "       'dot_id_marketing_airline', 'iata_code_marketing_airline',\n",
       "       'flight_number_marketing_airline', 'operating_airline',\n",
       "       'dot_id_operating_airline', 'iata_code_operating_airline',\n",
       "       'tail_number', 'flight_number_operating_airline', 'origin_airport_id',\n",
       "       'origin_airport_seq_id', 'origin_city_market_id', 'origin',\n",
       "       'origin_city_name', 'origin_state', 'origin_state_fips',\n",
       "       'origin_state_name', 'origin_wac', 'dest_airport_id',\n",
       "       'dest_airport_seq_id', 'dest_city_market_id', 'dest', 'dest_city_name',\n",
       "       'dest_state', 'dest_state_fips', 'dest_state_name', 'dest_wac',\n",
       "       'crs_dep_time', 'dep_time', 'dep_delay', 'dep_delay_minutes',\n",
       "       'dep_del15', 'departure_delay_groups', 'dep_time_blk', 'taxi_out',\n",
       "       'wheels_off', 'wheels_on', 'taxi_in', 'crs_arr_time', 'arr_time',\n",
       "       'arr_delay', 'arr_delay_minutes', 'arr_del15', 'arrival_delay_groups',\n",
       "       'arr_time_blk', 'cancellation_code', 'diverted', 'crs_elapsed_time',\n",
       "       'actual_elapsed_time', 'air_time', 'flights', 'distance',\n",
       "       'distance_group', 'carrier_delay', 'weather_delay', 'nas_delay',\n",
       "       'security_delay', 'late_aircraft_delay', 'div_airport_landings',\n",
       "       'day_number', 'week_number', 'operating_airline_AS',\n",
       "       'operating_airline_B6', 'operating_airline_DL', 'operating_airline_F9',\n",
       "       'operating_airline_G4', 'operating_airline_HA', 'operating_airline_NK',\n",
       "       'operating_airline_UA', 'operating_airline_WN', 'origin_CLT',\n",
       "       'origin_DEN', 'origin_DFW', 'origin_LAS', 'origin_LAX', 'origin_MCO',\n",
       "       'origin_MIA', 'origin_ORD', 'origin_PHX'],\n",
       "      dtype='object')"
      ]
     },
     "execution_count": 54,
     "metadata": {},
     "output_type": "execute_result"
    }
   ],
   "source": [
    "x_encoded.columns"
   ]
  },
  {
   "cell_type": "code",
   "execution_count": 55,
   "id": "79ea15c2",
   "metadata": {},
   "outputs": [
    {
     "name": "stderr",
     "output_type": "stream",
     "text": [
      "c:\\ProgramData\\anaconda3\\envs\\irvin_env\\Lib\\site-packages\\statsmodels\\discrete\\discrete_model.py:227: PerfectSeparationWarning: Perfect separation or prediction detected, parameter may not be identified\n",
      "  warnings.warn(msg, category=PerfectSeparationWarning)\n",
      "c:\\ProgramData\\anaconda3\\envs\\irvin_env\\Lib\\site-packages\\statsmodels\\discrete\\discrete_model.py:227: PerfectSeparationWarning: Perfect separation or prediction detected, parameter may not be identified\n",
      "  warnings.warn(msg, category=PerfectSeparationWarning)\n"
     ]
    },
    {
     "name": "stdout",
     "output_type": "stream",
     "text": [
      "Warning: Maximum number of iterations has been exceeded.\n",
      "         Current function value: 0.000000\n",
      "         Iterations: 35\n"
     ]
    },
    {
     "name": "stderr",
     "output_type": "stream",
     "text": [
      "c:\\ProgramData\\anaconda3\\envs\\irvin_env\\Lib\\site-packages\\statsmodels\\base\\model.py:607: ConvergenceWarning: Maximum Likelihood optimization failed to converge. Check mle_retvals\n",
      "  warnings.warn(\"Maximum Likelihood optimization failed to \"\n",
      "c:\\ProgramData\\anaconda3\\envs\\irvin_env\\Lib\\site-packages\\statsmodels\\discrete\\discrete_model.py:227: PerfectSeparationWarning: Perfect separation or prediction detected, parameter may not be identified\n",
      "  warnings.warn(msg, category=PerfectSeparationWarning)\n",
      "c:\\ProgramData\\anaconda3\\envs\\irvin_env\\Lib\\site-packages\\statsmodels\\discrete\\discrete_model.py:227: PerfectSeparationWarning: Perfect separation or prediction detected, parameter may not be identified\n",
      "  warnings.warn(msg, category=PerfectSeparationWarning)\n",
      "c:\\ProgramData\\anaconda3\\envs\\irvin_env\\Lib\\site-packages\\statsmodels\\discrete\\discrete_model.py:227: PerfectSeparationWarning: Perfect separation or prediction detected, parameter may not be identified\n",
      "  warnings.warn(msg, category=PerfectSeparationWarning)\n",
      "c:\\ProgramData\\anaconda3\\envs\\irvin_env\\Lib\\site-packages\\statsmodels\\discrete\\discrete_model.py:227: PerfectSeparationWarning: Perfect separation or prediction detected, parameter may not be identified\n",
      "  warnings.warn(msg, category=PerfectSeparationWarning)\n",
      "c:\\ProgramData\\anaconda3\\envs\\irvin_env\\Lib\\site-packages\\statsmodels\\discrete\\discrete_model.py:227: PerfectSeparationWarning: Perfect separation or prediction detected, parameter may not be identified\n",
      "  warnings.warn(msg, category=PerfectSeparationWarning)\n",
      "c:\\ProgramData\\anaconda3\\envs\\irvin_env\\Lib\\site-packages\\statsmodels\\discrete\\discrete_model.py:227: PerfectSeparationWarning: Perfect separation or prediction detected, parameter may not be identified\n",
      "  warnings.warn(msg, category=PerfectSeparationWarning)\n",
      "c:\\ProgramData\\anaconda3\\envs\\irvin_env\\Lib\\site-packages\\statsmodels\\discrete\\discrete_model.py:227: PerfectSeparationWarning: Perfect separation or prediction detected, parameter may not be identified\n",
      "  warnings.warn(msg, category=PerfectSeparationWarning)\n",
      "c:\\ProgramData\\anaconda3\\envs\\irvin_env\\Lib\\site-packages\\statsmodels\\discrete\\discrete_model.py:227: PerfectSeparationWarning: Perfect separation or prediction detected, parameter may not be identified\n",
      "  warnings.warn(msg, category=PerfectSeparationWarning)\n",
      "c:\\ProgramData\\anaconda3\\envs\\irvin_env\\Lib\\site-packages\\statsmodels\\discrete\\discrete_model.py:227: PerfectSeparationWarning: Perfect separation or prediction detected, parameter may not be identified\n",
      "  warnings.warn(msg, category=PerfectSeparationWarning)\n",
      "c:\\ProgramData\\anaconda3\\envs\\irvin_env\\Lib\\site-packages\\statsmodels\\discrete\\discrete_model.py:227: PerfectSeparationWarning: Perfect separation or prediction detected, parameter may not be identified\n",
      "  warnings.warn(msg, category=PerfectSeparationWarning)\n",
      "c:\\ProgramData\\anaconda3\\envs\\irvin_env\\Lib\\site-packages\\statsmodels\\discrete\\discrete_model.py:227: PerfectSeparationWarning: Perfect separation or prediction detected, parameter may not be identified\n",
      "  warnings.warn(msg, category=PerfectSeparationWarning)\n",
      "c:\\ProgramData\\anaconda3\\envs\\irvin_env\\Lib\\site-packages\\statsmodels\\discrete\\discrete_model.py:227: PerfectSeparationWarning: Perfect separation or prediction detected, parameter may not be identified\n",
      "  warnings.warn(msg, category=PerfectSeparationWarning)\n",
      "c:\\ProgramData\\anaconda3\\envs\\irvin_env\\Lib\\site-packages\\statsmodels\\discrete\\discrete_model.py:227: PerfectSeparationWarning: Perfect separation or prediction detected, parameter may not be identified\n",
      "  warnings.warn(msg, category=PerfectSeparationWarning)\n",
      "c:\\ProgramData\\anaconda3\\envs\\irvin_env\\Lib\\site-packages\\statsmodels\\discrete\\discrete_model.py:227: PerfectSeparationWarning: Perfect separation or prediction detected, parameter may not be identified\n",
      "  warnings.warn(msg, category=PerfectSeparationWarning)\n",
      "c:\\ProgramData\\anaconda3\\envs\\irvin_env\\Lib\\site-packages\\statsmodels\\discrete\\discrete_model.py:227: PerfectSeparationWarning: Perfect separation or prediction detected, parameter may not be identified\n",
      "  warnings.warn(msg, category=PerfectSeparationWarning)\n",
      "c:\\ProgramData\\anaconda3\\envs\\irvin_env\\Lib\\site-packages\\statsmodels\\discrete\\discrete_model.py:227: PerfectSeparationWarning: Perfect separation or prediction detected, parameter may not be identified\n",
      "  warnings.warn(msg, category=PerfectSeparationWarning)\n",
      "c:\\ProgramData\\anaconda3\\envs\\irvin_env\\Lib\\site-packages\\statsmodels\\discrete\\discrete_model.py:227: PerfectSeparationWarning: Perfect separation or prediction detected, parameter may not be identified\n",
      "  warnings.warn(msg, category=PerfectSeparationWarning)\n",
      "c:\\ProgramData\\anaconda3\\envs\\irvin_env\\Lib\\site-packages\\statsmodels\\discrete\\discrete_model.py:227: PerfectSeparationWarning: Perfect separation or prediction detected, parameter may not be identified\n",
      "  warnings.warn(msg, category=PerfectSeparationWarning)\n",
      "c:\\ProgramData\\anaconda3\\envs\\irvin_env\\Lib\\site-packages\\statsmodels\\discrete\\discrete_model.py:227: PerfectSeparationWarning: Perfect separation or prediction detected, parameter may not be identified\n",
      "  warnings.warn(msg, category=PerfectSeparationWarning)\n",
      "c:\\ProgramData\\anaconda3\\envs\\irvin_env\\Lib\\site-packages\\statsmodels\\discrete\\discrete_model.py:227: PerfectSeparationWarning: Perfect separation or prediction detected, parameter may not be identified\n",
      "  warnings.warn(msg, category=PerfectSeparationWarning)\n",
      "c:\\ProgramData\\anaconda3\\envs\\irvin_env\\Lib\\site-packages\\statsmodels\\discrete\\discrete_model.py:227: PerfectSeparationWarning: Perfect separation or prediction detected, parameter may not be identified\n",
      "  warnings.warn(msg, category=PerfectSeparationWarning)\n",
      "c:\\ProgramData\\anaconda3\\envs\\irvin_env\\Lib\\site-packages\\statsmodels\\discrete\\discrete_model.py:4469: RuntimeWarning: divide by zero encountered in scalar divide\n",
      "  return 1 - self.llf/self.llnull\n"
     ]
    },
    {
     "data": {
      "text/html": [
       "<table class=\"simpletable\">\n",
       "<caption>Logit Regression Results</caption>\n",
       "<tr>\n",
       "  <th>Dep. Variable:</th>       <td>cancelled</td>    <th>  No. Observations:  </th>   <td>402519</td>   \n",
       "</tr>\n",
       "<tr>\n",
       "  <th>Model:</th>                 <td>Logit</td>      <th>  Df Residuals:      </th>   <td>402510</td>   \n",
       "</tr>\n",
       "<tr>\n",
       "  <th>Method:</th>                 <td>MLE</td>       <th>  Df Model:          </th>   <td>     8</td>   \n",
       "</tr>\n",
       "<tr>\n",
       "  <th>Date:</th>            <td>Thu, 10 Jul 2025</td> <th>  Pseudo R-squ.:     </th>   <td>   inf</td>   \n",
       "</tr>\n",
       "<tr>\n",
       "  <th>Time:</th>                <td>15:51:02</td>     <th>  Log-Likelihood:    </th> <td>-4.2475e-06</td>\n",
       "</tr>\n",
       "<tr>\n",
       "  <th>converged:</th>             <td>False</td>      <th>  LL-Null:           </th>  <td>  0.0000</td>  \n",
       "</tr>\n",
       "<tr>\n",
       "  <th>Covariance Type:</th>     <td>nonrobust</td>    <th>  LLR p-value:       </th>   <td> 1.000</td>   \n",
       "</tr>\n",
       "</table>\n",
       "<table class=\"simpletable\">\n",
       "<tr>\n",
       "           <td></td>              <th>coef</th>     <th>std err</th>      <th>z</th>      <th>P>|z|</th>  <th>[0.025</th>    <th>0.975]</th>  \n",
       "</tr>\n",
       "<tr>\n",
       "  <th>Intercept</th>           <td>   -0.6797</td> <td> 7025.374</td> <td>-9.68e-05</td> <td> 1.000</td> <td>-1.38e+04</td> <td> 1.38e+04</td>\n",
       "</tr>\n",
       "<tr>\n",
       "  <th>crs_dep_time</th>        <td>   -0.0226</td> <td>    7.409</td> <td>   -0.003</td> <td> 0.998</td> <td>  -14.543</td> <td>   14.498</td>\n",
       "</tr>\n",
       "<tr>\n",
       "  <th>dep_delay</th>           <td>   -0.0821</td> <td>   86.947</td> <td>   -0.001</td> <td> 0.999</td> <td> -170.495</td> <td>  170.331</td>\n",
       "</tr>\n",
       "<tr>\n",
       "  <th>distance</th>            <td>   -0.0181</td> <td>    9.209</td> <td>   -0.002</td> <td> 0.998</td> <td>  -18.068</td> <td>   18.032</td>\n",
       "</tr>\n",
       "<tr>\n",
       "  <th>carrier_delay</th>       <td>    0.0352</td> <td>  104.903</td> <td>    0.000</td> <td> 1.000</td> <td> -205.571</td> <td>  205.641</td>\n",
       "</tr>\n",
       "<tr>\n",
       "  <th>weather_delay</th>       <td>    0.0614</td> <td>  148.397</td> <td>    0.000</td> <td> 1.000</td> <td> -290.792</td> <td>  290.915</td>\n",
       "</tr>\n",
       "<tr>\n",
       "  <th>nas_delay</th>           <td>   -0.0903</td> <td>   72.432</td> <td>   -0.001</td> <td> 0.999</td> <td> -142.055</td> <td>  141.874</td>\n",
       "</tr>\n",
       "<tr>\n",
       "  <th>security_delay</th>      <td>   -0.0843</td> <td>  578.728</td> <td>   -0.000</td> <td> 1.000</td> <td>-1134.371</td> <td> 1134.202</td>\n",
       "</tr>\n",
       "<tr>\n",
       "  <th>late_aircraft_delay</th> <td>    0.0648</td> <td>  117.941</td> <td>    0.001</td> <td> 1.000</td> <td> -231.095</td> <td>  231.224</td>\n",
       "</tr>\n",
       "</table><br/><br/>Complete Separation: The results show that there iscomplete separation or perfect prediction.<br/>In this case the Maximum Likelihood Estimator does not exist and the parameters<br/>are not identified."
      ],
      "text/latex": [
       "\\begin{center}\n",
       "\\begin{tabular}{lclc}\n",
       "\\toprule\n",
       "\\textbf{Dep. Variable:}        &    cancelled     & \\textbf{  No. Observations:  } &    402519    \\\\\n",
       "\\textbf{Model:}                &      Logit       & \\textbf{  Df Residuals:      } &    402510    \\\\\n",
       "\\textbf{Method:}               &       MLE        & \\textbf{  Df Model:          } &         8    \\\\\n",
       "\\textbf{Date:}                 & Thu, 10 Jul 2025 & \\textbf{  Pseudo R-squ.:     } &       inf    \\\\\n",
       "\\textbf{Time:}                 &     15:51:02     & \\textbf{  Log-Likelihood:    } & -4.2475e-06  \\\\\n",
       "\\textbf{converged:}            &      False       & \\textbf{  LL-Null:           } &     0.0000   \\\\\n",
       "\\textbf{Covariance Type:}      &    nonrobust     & \\textbf{  LLR p-value:       } &     1.000    \\\\\n",
       "\\bottomrule\n",
       "\\end{tabular}\n",
       "\\begin{tabular}{lcccccc}\n",
       "                               & \\textbf{coef} & \\textbf{std err} & \\textbf{z} & \\textbf{P$> |$z$|$} & \\textbf{[0.025} & \\textbf{0.975]}  \\\\\n",
       "\\midrule\n",
       "\\textbf{Intercept}             &      -0.6797  &     7025.374     & -9.68e-05  &         1.000        &    -1.38e+04    &     1.38e+04     \\\\\n",
       "\\textbf{crs\\_dep\\_time}        &      -0.0226  &        7.409     &    -0.003  &         0.998        &      -14.543    &       14.498     \\\\\n",
       "\\textbf{dep\\_delay}            &      -0.0821  &       86.947     &    -0.001  &         0.999        &     -170.495    &      170.331     \\\\\n",
       "\\textbf{distance}              &      -0.0181  &        9.209     &    -0.002  &         0.998        &      -18.068    &       18.032     \\\\\n",
       "\\textbf{carrier\\_delay}        &       0.0352  &      104.903     &     0.000  &         1.000        &     -205.571    &      205.641     \\\\\n",
       "\\textbf{weather\\_delay}        &       0.0614  &      148.397     &     0.000  &         1.000        &     -290.792    &      290.915     \\\\\n",
       "\\textbf{nas\\_delay}            &      -0.0903  &       72.432     &    -0.001  &         0.999        &     -142.055    &      141.874     \\\\\n",
       "\\textbf{security\\_delay}       &      -0.0843  &      578.728     &    -0.000  &         1.000        &    -1134.371    &     1134.202     \\\\\n",
       "\\textbf{late\\_aircraft\\_delay} &       0.0648  &      117.941     &     0.001  &         1.000        &     -231.095    &      231.224     \\\\\n",
       "\\bottomrule\n",
       "\\end{tabular}\n",
       "%\\caption{Logit Regression Results}\n",
       "\\end{center}\n",
       "\n",
       "Complete Separation: The results show that there iscomplete separation or perfect prediction. \\newline\n",
       " In this case the Maximum Likelihood Estimator does not exist and the parameters \\newline\n",
       " are not identified."
      ],
      "text/plain": [
       "<class 'statsmodels.iolib.summary.Summary'>\n",
       "\"\"\"\n",
       "                           Logit Regression Results                           \n",
       "==============================================================================\n",
       "Dep. Variable:              cancelled   No. Observations:               402519\n",
       "Model:                          Logit   Df Residuals:                   402510\n",
       "Method:                           MLE   Df Model:                            8\n",
       "Date:                Thu, 10 Jul 2025   Pseudo R-squ.:                     inf\n",
       "Time:                        15:51:02   Log-Likelihood:            -4.2475e-06\n",
       "converged:                      False   LL-Null:                        0.0000\n",
       "Covariance Type:            nonrobust   LLR p-value:                     1.000\n",
       "=======================================================================================\n",
       "                          coef    std err          z      P>|z|      [0.025      0.975]\n",
       "---------------------------------------------------------------------------------------\n",
       "Intercept              -0.6797   7025.374  -9.68e-05      1.000   -1.38e+04    1.38e+04\n",
       "crs_dep_time           -0.0226      7.409     -0.003      0.998     -14.543      14.498\n",
       "dep_delay              -0.0821     86.947     -0.001      0.999    -170.495     170.331\n",
       "distance               -0.0181      9.209     -0.002      0.998     -18.068      18.032\n",
       "carrier_delay           0.0352    104.903      0.000      1.000    -205.571     205.641\n",
       "weather_delay           0.0614    148.397      0.000      1.000    -290.792     290.915\n",
       "nas_delay              -0.0903     72.432     -0.001      0.999    -142.055     141.874\n",
       "security_delay         -0.0843    578.728     -0.000      1.000   -1134.371    1134.202\n",
       "late_aircraft_delay     0.0648    117.941      0.001      1.000    -231.095     231.224\n",
       "=======================================================================================\n",
       "\n",
       "Complete Separation: The results show that there iscomplete separation or perfect prediction.\n",
       "In this case the Maximum Likelihood Estimator does not exist and the parameters\n",
       "are not identified.\n",
       "\"\"\""
      ]
     },
     "execution_count": 55,
     "metadata": {},
     "output_type": "execute_result"
    }
   ],
   "source": [
    "model_encoded = pd.concat([x_encoded, y], axis=1)\n",
    "model_logit = smf.logit('cancelled ~ crs_dep_time + dep_delay + distance + carrier_delay + weather_delay + nas_delay + security_delay + late_aircraft_delay', data = model_encoded).fit()\n",
    "#'operating_airline_AS + operating_airline_B6 +operating_airline_DL + operating_airline_F9 + operating_airline_G4 + operating_airline_HA + operating_airline_NK + operating_airline_UA + operating_airline_WN + origin_CLT + origin_DEN + origin_DFW + origin_LAS + origin_LAX + origin_MCO + origin_MIA + origin_ORD + origin_PHX', data=model_encoded).fit()\n",
    "model_logit.summary()"
   ]
  },
  {
   "cell_type": "code",
   "execution_count": 58,
   "id": "49de2898",
   "metadata": {},
   "outputs": [],
   "source": [
    "model_encoded[\"carrier_delay\"] = model_encoded[\"carrier_delay\"].fillna(0)\n",
    "model_encoded[\"weather_delay\"] = model_encoded[\"weather_delay\"].fillna(0)\n",
    "model_encoded[\"nas_delay\"] = model_encoded[\"nas_delay\"].fillna(0)\n",
    "model_encoded[\"security_delay\"] = model_encoded[\"security_delay\"].fillna(0)\n",
    "model_encoded[\"late_aircraft_delay\"] = model_encoded[\"late_aircraft_delay\"].fillna(0)\n",
    "model_encoded[\"dep_delay\"] = model_encoded['dep_delay'].fillna(model_encoded[\"dep_delay\"].median())\n",
    "model_encoded[\"crs_dep_hour\"] = model_encoded[\"crs_dep_time\"].astype(str).str.zfill(4).str[:2].astype(int)"
   ]
  },
  {
   "cell_type": "code",
   "execution_count": 57,
   "id": "c5f08e2d",
   "metadata": {},
   "outputs": [],
   "source": [
    "model_encoded.to_csv(\"final_dta.csv\", index=False)"
   ]
  },
  {
   "cell_type": "markdown",
   "id": "d91b0aeb",
   "metadata": {},
   "source": [
    "Create 50:40:10 train:validation:test split before performing exploratory data analysis to prevent data leakage and overfitting. Model development and feature selection will be done on the training set only."
   ]
  },
  {
   "cell_type": "code",
   "execution_count": null,
   "id": "9c7f67af",
   "metadata": {},
   "outputs": [],
   "source": [
    "### Train, Validation, Test Split\n",
    "\n",
    "x_train, x_valtest, y_train, y_valtest = train_test_split(x_encoded, y, train_size=0.50, random_state=123)\n",
    "x_val, x_test, y_val, y_test = train_test_split(x_valtest, y_valtest, train_size=0.8, random_state=123)"
   ]
  },
  {
   "cell_type": "code",
   "execution_count": null,
   "id": "6d507711",
   "metadata": {},
   "outputs": [],
   "source": [
    "# print(x_train.shape)\n",
    "#     # (836471, 68) \n",
    "# print(x_val.shape)\n",
    "#     # (669177, 68)\n",
    "# print(x_test.shape)\n",
    "#     # (167295, 68)\n",
    "# print(y_train.shape)\n",
    "#     # (836471,)\n",
    "# print(y_val.shape)\n",
    "#     # (669177,)\n",
    "# print(y_test.shape)\n",
    "#     # (167295,)"
   ]
  },
  {
   "cell_type": "markdown",
   "id": "6e1be0a3",
   "metadata": {},
   "source": [
    "### Exploratory Data Analysis"
   ]
  },
  {
   "cell_type": "markdown",
   "id": "67a5d29f",
   "metadata": {},
   "source": [
    "First, let's take a look at our target variable."
   ]
  },
  {
   "cell_type": "code",
   "execution_count": null,
   "id": "dfc772ef",
   "metadata": {},
   "outputs": [],
   "source": [
    "print(y_train.value_counts())\n",
    "    # currently, the binary variable has values 1 and 2 when originally they were 0 (no) and 1 (yes)\n",
    "\n",
    "# transform binary variable \"cancelled\" with values 1 and 2 to 0 and 1, respectively\n",
    "y_train = y_train - 1\n",
    "y_val = y_val - 1\n",
    "# y_test = y_test - 1\n",
    "\n",
    "print(y_train.value_counts())"
   ]
  },
  {
   "cell_type": "code",
   "execution_count": null,
   "id": "b8c3a50f",
   "metadata": {},
   "outputs": [],
   "source": [
    "### Original selecting which variables we think are important to use in our logistic regression model, a priori.\n",
    "# x_train = x_train[[\"operating_airline\", \"origin\", \"crs_dep_time\", \"dep_delay\",\n",
    "#                    \"distance\", \"carrier_delay\", \"weather_delay\", \"nas_delay\",\n",
    "#                    \"security_delay\", \"late_aircraft_delay\"]]\n",
    "\n",
    "# x_val = x_val[[\"operating_airline\", \"origin\", \"crs_dep_time\", \"dep_delay\",\n",
    "#                    \"distance\", \"carrier_delay\", \"weather_delay\", \"nas_delay\",\n",
    "#                    \"security_delay\", \"late_aircraft_delay\"]]\n",
    "\n",
    "# x_test = x_test[[\"operating_airline\", \"origin\", \"crs_dep_time\", \"dep_delay\",\n",
    "#                    \"distance\", \"carrier_delay\", \"weather_delay\", \"nas_delay\",\n",
    "#                    \"security_delay\", \"late_aircraft_delay\"]]\n",
    "\n",
    "# x_train.head(10)"
   ]
  },
  {
   "cell_type": "markdown",
   "id": "1a70a199",
   "metadata": {},
   "source": [
    "Only keep the hour when the flight was expected to depart"
   ]
  },
  {
   "cell_type": "code",
   "execution_count": null,
   "id": "2ff33997",
   "metadata": {},
   "outputs": [],
   "source": [
    "### create new var crs_dep_hour to only include the expected hour of departure and drop the crs_dep_time var\n",
    "x_train[\"crs_dep_hour\"] = x_train[\"crs_dep_time\"].astype(str).str.zfill(4).str[:2].astype(int)\n",
    "x_train = x_train.drop(columns=[\"crs_dep_time\"])\n",
    "\n",
    "x_val[\"crs_dep_hour\"] = x_val[\"crs_dep_time\"].astype(str).str.zfill(4).str[:2].astype(int)\n",
    "x_val = x_val.drop(columns=[\"crs_dep_time\"])"
   ]
  },
  {
   "cell_type": "code",
   "execution_count": null,
   "id": "979a8419",
   "metadata": {},
   "outputs": [],
   "source": [
    "# Assumption: if na, that observation was not affected by that particular delay reason\n",
    "x_train[\"carrier_delay\"] = x_train[\"carrier_delay\"].fillna(0)\n",
    "x_train[\"weather_delay\"] = x_train[\"weather_delay\"].fillna(0)\n",
    "x_train[\"nas_delay\"] = x_train[\"nas_delay\"].fillna(0)\n",
    "x_train[\"security_delay\"] = x_train[\"security_delay\"].fillna(0)\n",
    "x_train[\"late_aircraft_delay\"] = x_train[\"late_aircraft_delay\"].fillna(0)\n",
    "\n",
    "x_val[\"carrier_delay\"] = x_val[\"carrier_delay\"].fillna(0)\n",
    "x_val[\"weather_delay\"] = x_val[\"weather_delay\"].fillna(0)\n",
    "x_val[\"nas_delay\"] = x_val[\"nas_delay\"].fillna(0)\n",
    "x_val[\"security_delay\"] = x_val[\"security_delay\"].fillna(0)\n",
    "x_val[\"late_aircraft_delay\"] = x_val[\"late_aircraft_delay\"].fillna(0)"
   ]
  },
  {
   "cell_type": "code",
   "execution_count": null,
   "id": "0bff5b2c",
   "metadata": {},
   "outputs": [],
   "source": [
    "# impute missing values in dep_delay using the median (data is skewed)\n",
    "x_train[\"dep_delay\"] = x_train['dep_delay'].fillna(x_train[\"dep_delay\"].median())\n",
    "\n",
    "x_val[\"dep_delay\"] = x_val['dep_delay'].fillna(x_val[\"dep_delay\"].median())"
   ]
  },
  {
   "cell_type": "code",
   "execution_count": null,
   "id": "7899f1f9",
   "metadata": {},
   "outputs": [],
   "source": [
    "x_train[\"carrier_delay\"] = x_train[\"carrier_delay\"].astype(int)\n",
    "x_train[\"weather_delay\"] = x_train[\"weather_delay\"].astype(int)\n",
    "x_train[\"nas_delay\"] = x_train[\"nas_delay\"].astype(int)\n",
    "x_train[\"security_delay\"] = x_train[\"security_delay\"].astype(int)\n",
    "x_train[\"late_aircraft_delay\"] = x_train[\"late_aircraft_delay\"].astype(int)\n",
    "x_train[\"dep_delay\"] = x_train[\"dep_delay\"].astype(int)\n",
    "\n",
    "x_val[\"carrier_delay\"] = x_val[\"carrier_delay\"].astype(int)\n",
    "x_val[\"weather_delay\"] = x_val[\"weather_delay\"].astype(int)\n",
    "x_val[\"nas_delay\"] = x_val[\"nas_delay\"].astype(int)\n",
    "x_val[\"security_delay\"] = x_val[\"security_delay\"].astype(int)\n",
    "x_val[\"late_aircraft_delay\"] = x_val[\"late_aircraft_delay\"].astype(int)\n",
    "x_val[\"dep_delay\"] = x_val[\"dep_delay\"].astype(int)"
   ]
  },
  {
   "cell_type": "code",
   "execution_count": null,
   "id": "31af54e5",
   "metadata": {},
   "outputs": [],
   "source": [
    "x_train.columns\n",
    "x_train.dtypes"
   ]
  },
  {
   "cell_type": "markdown",
   "id": "32a9ca7f",
   "metadata": {},
   "source": [
    "Encode categorical features as a one-hot numeric array"
   ]
  },
  {
   "cell_type": "code",
   "execution_count": null,
   "id": "7b4d383a",
   "metadata": {},
   "outputs": [],
   "source": [
    "# define which columns are categorical\n",
    "categorical_features = [\"operating_airline\", \"origin\"]\n",
    "\n",
    "# define column transformer for encoding\n",
    "preprocessor = ColumnTransformer(\n",
    "    transformers=[\n",
    "        (\"cat\", OneHotEncoder(drop = \"first\"), categorical_features)\n",
    "    ],\n",
    "    remainder=\"passthrough\" # Keep the non-categorical features from dataframe\n",
    ")\n",
    "\n",
    "# Logistic Regression Pipeline\n",
    "model = Pipeline(steps=[\n",
    "    (\"preprocessor\", preprocessor),\n",
    "    (\"classifier\", LogisticRegression(max_iter=1000, random_state=123))\n",
    "])\n",
    "\n",
    "y_train_array = y_train[\"cancelled\"].to_numpy()\n",
    "\n",
    "# Fit the model\n",
    "model.fit(x_train, y_train_array)\n",
    "\n",
    "# # define one hot encoding\n",
    "# encoder = OneHotEncoder(sparse=False)\n",
    "# # transform data\n",
    "# x_train[\"operating_airline\"] = encoder.fit_transform(x_train[\"operating_airline\"])"
   ]
  },
  {
   "cell_type": "code",
   "execution_count": null,
   "id": "591e69da",
   "metadata": {},
   "outputs": [],
   "source": [
    "x_train.columns"
   ]
  },
  {
   "cell_type": "markdown",
   "id": "bba19230",
   "metadata": {},
   "source": [
    "### Basic Logistic Regression Model - 5 Delay Features"
   ]
  },
  {
   "cell_type": "code",
   "execution_count": null,
   "id": "2a146cff",
   "metadata": {},
   "outputs": [],
   "source": [
    "# Initialize logistic regression model\n",
    "log_model = LogisticRegression(max_iter=1000, random_state=123, class_weight=\"balanced\")\n",
    "    # max_iter can be increased if needed\n",
    "\n",
    "# fit the model to training data\n",
    "log_model.fit(x_train[['dep_delay', 'distance', 'carrier_delay',\n",
    "       'weather_delay', 'nas_delay', 'security_delay', 'late_aircraft_delay',\n",
    "       'operating_airline_AS', 'operating_airline_B6', 'operating_airline_DL',\n",
    "       'operating_airline_F9', 'operating_airline_G4', 'operating_airline_HA',\n",
    "       'operating_airline_NK', 'operating_airline_UA', 'operating_airline_WN',\n",
    "       'origin_CLT', 'origin_DEN', 'origin_DFW', 'origin_LAS', 'origin_LAX',\n",
    "       'origin_MCO', 'origin_MIA', 'origin_ORD', 'origin_PHX', 'crs_dep_hour']], y_train)\n",
    "\n",
    "# predict on validation data\n",
    "y_pred = log_model.predict(x_val[['dep_delay', 'distance', 'carrier_delay',\n",
    "       'weather_delay', 'nas_delay', 'security_delay', 'late_aircraft_delay',\n",
    "       'operating_airline_AS', 'operating_airline_B6', 'operating_airline_DL',\n",
    "       'operating_airline_F9', 'operating_airline_G4', 'operating_airline_HA',\n",
    "       'operating_airline_NK', 'operating_airline_UA', 'operating_airline_WN',\n",
    "       'origin_CLT', 'origin_DEN', 'origin_DFW', 'origin_LAS', 'origin_LAX',\n",
    "       'origin_MCO', 'origin_MIA', 'origin_ORD', 'origin_PHX', 'crs_dep_hour']])\n",
    "\n",
    "# evaluate model\n",
    "print(\"Accuracy: \", accuracy_score(y_val, y_pred))\n",
    "print(classification_report(y_val, y_pred))\n",
    "# print(log_model.coef_)\n"
   ]
  },
  {
   "cell_type": "markdown",
   "id": "ab26879c",
   "metadata": {},
   "source": [
    "### SMOTE"
   ]
  },
  {
   "cell_type": "code",
   "execution_count": null,
   "id": "368762de",
   "metadata": {},
   "outputs": [],
   "source": [
    "#Apply SMOTE\n",
    "from imblearn.over_sampling import SMOTE\n",
    "\n",
    "sm = SMOTE(random_state=123)\n",
    "\n",
    "x_res, y_res = sm.fit_resample(x_train[['dep_delay', 'distance', 'carrier_delay',\n",
    "       'weather_delay', 'nas_delay', 'security_delay', 'late_aircraft_delay',\n",
    "       'operating_airline_AS', 'operating_airline_B6', 'operating_airline_DL',\n",
    "       'operating_airline_F9', 'operating_airline_G4', 'operating_airline_HA',\n",
    "       'operating_airline_NK', 'operating_airline_UA', 'operating_airline_WN',\n",
    "       'origin_CLT', 'origin_DEN', 'origin_DFW', 'origin_LAS', 'origin_LAX',\n",
    "       'origin_MCO', 'origin_MIA', 'origin_ORD', 'origin_PHX', 'crs_dep_hour']], y_train)"
   ]
  },
  {
   "cell_type": "code",
   "execution_count": null,
   "id": "01e7bbbd",
   "metadata": {},
   "outputs": [],
   "source": [
    "log_model_res = LogisticRegression(random_state = 123)\n",
    "log_model_res.fit(x_res, y_res)\n",
    "y_pred_val_res = log_model_res.predict(x_val[['dep_delay', 'distance', 'carrier_delay',\n",
    "       'weather_delay', 'nas_delay', 'security_delay', 'late_aircraft_delay',\n",
    "       'operating_airline_AS', 'operating_airline_B6', 'operating_airline_DL',\n",
    "       'operating_airline_F9', 'operating_airline_G4', 'operating_airline_HA',\n",
    "       'operating_airline_NK', 'operating_airline_UA', 'operating_airline_WN',\n",
    "       'origin_CLT', 'origin_DEN', 'origin_DFW', 'origin_LAS', 'origin_LAX',\n",
    "       'origin_MCO', 'origin_MIA', 'origin_ORD', 'origin_PHX', 'crs_dep_hour']])\n",
    "accuracy_score(y_val,y_pred_val_res)\n"
   ]
  },
  {
   "cell_type": "code",
   "execution_count": null,
   "id": "b3402a7f",
   "metadata": {},
   "outputs": [],
   "source": [
    "from sklearn.metrics import f1_score\n",
    "print(classification_report(y_val, y_pred_val_res))\n",
    "print(f\"f1 score is {f1_score(y_val, y_pred_val_res, average='binary')}\")"
   ]
  },
  {
   "cell_type": "code",
   "execution_count": null,
   "id": "f99aa38e",
   "metadata": {},
   "outputs": [],
   "source": [
    "from sklearn.metrics import confusion_matrix, ConfusionMatrixDisplay, roc_auc_score\n",
    "cm = confusion_matrix(y_val, y_pred_val_res)\n",
    "print(cm)\n",
    "print(\"ROC-AUC:\", roc_auc_score(y_val, y_pred_val_res))"
   ]
  },
  {
   "cell_type": "code",
   "execution_count": null,
   "id": "0b9caece",
   "metadata": {},
   "outputs": [],
   "source": [
    "# from scipy.stats import chi2_contingency\n",
    "# contengency_table = pd.crosstab(x_train[\"operating_airline\"], x_train[\"dot_id_operating_airline\"])\n",
    "# chi2, p_value, dof, expected = chi2_contingency(contengency_table)\n",
    "# print(f\"Chi-squire statistics: {chi2}\")\n",
    "# print(f\"P-value: {p_value}\")"
   ]
  },
  {
   "cell_type": "markdown",
   "id": "e49aa21f",
   "metadata": {},
   "source": [
    "### SMOTE + Tomek (SMOTEENN)"
   ]
  },
  {
   "cell_type": "code",
   "execution_count": null,
   "id": "bf664e60",
   "metadata": {},
   "outputs": [],
   "source": [
    "from imblearn.combine import SMOTEENN\n",
    "\n",
    "smote_enn = SMOTEENN(random_state=123)\n",
    "X_resampled, y_resampled = smote_enn.fit_resample(x_train[['dep_delay', 'distance', 'carrier_delay',\n",
    "       'weather_delay', 'nas_delay', 'security_delay', 'late_aircraft_delay',\n",
    "       'operating_airline_AS', 'operating_airline_B6', 'operating_airline_DL',\n",
    "       'operating_airline_F9', 'operating_airline_G4', 'operating_airline_HA',\n",
    "       'operating_airline_NK', 'operating_airline_UA', 'operating_airline_WN',\n",
    "       'origin_CLT', 'origin_DEN', 'origin_DFW', 'origin_LAS', 'origin_LAX',\n",
    "       'origin_MCO', 'origin_MIA', 'origin_ORD', 'origin_PHX', 'crs_dep_hour']], y_train)"
   ]
  },
  {
   "cell_type": "code",
   "execution_count": null,
   "id": "c07b6c30",
   "metadata": {},
   "outputs": [],
   "source": [
    "log_model_res2 = LogisticRegression(random_state = 123)\n",
    "log_model_res2.fit(X_resampled, y_resampled)\n",
    "y_pred_val_res2 = log_model_res2.predict(x_val[['dep_delay', 'distance', 'carrier_delay',\n",
    "       'weather_delay', 'nas_delay', 'security_delay', 'late_aircraft_delay',\n",
    "       'operating_airline_AS', 'operating_airline_B6', 'operating_airline_DL',\n",
    "       'operating_airline_F9', 'operating_airline_G4', 'operating_airline_HA',\n",
    "       'operating_airline_NK', 'operating_airline_UA', 'operating_airline_WN',\n",
    "       'origin_CLT', 'origin_DEN', 'origin_DFW', 'origin_LAS', 'origin_LAX',\n",
    "       'origin_MCO', 'origin_MIA', 'origin_ORD', 'origin_PHX', 'crs_dep_hour']])\n",
    "accuracy_score(y_val,y_pred_val_res2)"
   ]
  },
  {
   "cell_type": "code",
   "execution_count": null,
   "id": "3f73e9de",
   "metadata": {},
   "outputs": [],
   "source": [
    "from sklearn.metrics import f1_score\n",
    "print(classification_report(y_val, y_pred_val_res2))\n",
    "print(f\"f1 score is {f1_score(y_val, y_pred_val_res2, average='binary')}\")\n",
    "from sklearn.metrics import confusion_matrix, ConfusionMatrixDisplay, roc_auc_score\n",
    "cm2 = confusion_matrix(y_val, y_pred_val_res2)\n",
    "print(cm2)\n",
    "print(\"ROC-AUC:\", roc_auc_score(y_val, y_pred_val_res2))"
   ]
  },
  {
   "cell_type": "markdown",
   "id": "09d5563e",
   "metadata": {},
   "source": [
    "ideas to improve model\n",
    "- cancelled vs dep_delay (correlation) - justify running 2-way Anova with interactions against dep_delay\n",
    "- 2-way Anova - interaction between \"origin\" and \"operating_airline\" against \"dep_delay\" to find significant interactions and add back into model \n",
    "- interactions\n",
    "- drop unimformative features (permutation importance or SelectFromModel)\n",
    "- RandomForest"
   ]
  }
 ],
 "metadata": {
  "kernelspec": {
   "display_name": "irvin_env",
   "language": "python",
   "name": "python3"
  },
  "language_info": {
   "codemirror_mode": {
    "name": "ipython",
    "version": 3
   },
   "file_extension": ".py",
   "mimetype": "text/x-python",
   "name": "python",
   "nbconvert_exporter": "python",
   "pygments_lexer": "ipython3",
   "version": "3.12.11"
  }
 },
 "nbformat": 4,
 "nbformat_minor": 5
}
